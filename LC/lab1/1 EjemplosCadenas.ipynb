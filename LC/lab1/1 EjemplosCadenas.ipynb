{
 "cells": [
  {
   "cell_type": "markdown",
   "metadata": {
    "id": "3gMNpymCbzHm"
   },
   "source": [
    "## **Ejemplos de manejo de cadenas en Python**"
   ]
  },
  {
   "cell_type": "code",
   "execution_count": 2,
   "metadata": {
    "id": "1ooH_RdIbzHr"
   },
   "outputs": [
    {
     "data": {
      "text/plain": [
       "'¡hola! ¿cómo estás?'"
      ]
     },
     "execution_count": 2,
     "metadata": {},
     "output_type": "execute_result"
    }
   ],
   "source": [
    "# Convertir a minúsculas.\n",
    "\"¡HOLA! ¿CÓMO ESTÁS?\".lower()"
   ]
  },
  {
   "cell_type": "code",
   "execution_count": 3,
   "metadata": {
    "id": "Yvt54GOcbzHs"
   },
   "outputs": [
    {
     "data": {
      "text/plain": [
       "'¡HOLA!'"
      ]
     },
     "execution_count": 3,
     "metadata": {},
     "output_type": "execute_result"
    }
   ],
   "source": [
    "# Convertir a mayúsculas.\n",
    "\"¡hola!\".upper()"
   ]
  },
  {
   "cell_type": "code",
   "execution_count": 4,
   "metadata": {
    "id": "-GV5fdASbzHt"
   },
   "outputs": [],
   "source": [
    "# Dividir la cadena utilizando un separador.\n",
    "x = \"En un lugar de La Mancha de cuyo nombre no quiero acordarme.\".split(\" \")"
   ]
  },
  {
   "cell_type": "code",
   "execution_count": 5,
   "metadata": {
    "id": "AzI5Ulr3bzHt"
   },
   "outputs": [
    {
     "name": "stdout",
     "output_type": "stream",
     "text": [
      "['En', 'un', 'lugar', 'de', 'La', 'Mancha', 'de', 'cuyo', 'nombre', 'no', 'quiero', 'acordarme.']\n"
     ]
    }
   ],
   "source": [
    "print(x)"
   ]
  },
  {
   "cell_type": "code",
   "execution_count": 6,
   "metadata": {
    "id": "eI-U6vHLbzHu"
   },
   "outputs": [
    {
     "data": {
      "text/plain": [
       "'En un lugar de La Mancha de cuyo nombre no quiero acordarme.'"
      ]
     },
     "execution_count": 6,
     "metadata": {},
     "output_type": "execute_result"
    }
   ],
   "source": [
    "# Concatenar una lista de objetos de tipo cadena en una única cadena utilizando un separador.\n",
    "\" \".join(x)"
   ]
  },
  {
   "cell_type": "code",
   "execution_count": 7,
   "metadata": {
    "id": "mrX9ASSnbzHu"
   },
   "outputs": [
    {
     "name": "stdout",
     "output_type": "stream",
     "text": [
      "60\n"
     ]
    }
   ],
   "source": [
    "# Calcular la longitud de una cadena.\n",
    "y = \"En un lugar de La Mancha de cuyo nombre no quiero acordarme.\"\n",
    "print(len(y))"
   ]
  },
  {
   "cell_type": "code",
   "execution_count": 8,
   "metadata": {
    "id": "qX8DzWxibzHv"
   },
   "outputs": [
    {
     "data": {
      "text/plain": [
       "6"
      ]
     },
     "execution_count": 8,
     "metadata": {},
     "output_type": "execute_result"
    }
   ],
   "source": [
    "# Contar el número de ocurrencias de un carácter en una cadena.\n",
    "y.count('a')"
   ]
  },
  {
   "cell_type": "code",
   "execution_count": 9,
   "metadata": {
    "id": "8bULmPiKbzHw"
   },
   "outputs": [
    {
     "name": "stdout",
     "output_type": "stream",
     "text": [
      "En un luga\n",
      "acordarme.\n",
      "La Mancha \n"
     ]
    }
   ],
   "source": [
    "# Utilizar rangos para extraer subcadenas.\n",
    "inicio = y[:10]\n",
    "final= y[-10:]\n",
    "enmedio=y[15:25]\n",
    "print(inicio)\n",
    "print(final)\n",
    "print(enmedio)"
   ]
  },
  {
   "cell_type": "code",
   "execution_count": 10,
   "metadata": {
    "id": "P4OnDktxcg8q"
   },
   "outputs": [
    {
     "data": {
      "text/plain": [
       "'En un lugar de Alicante de cuyo nombre no quiero acordarme.'"
      ]
     },
     "execution_count": 10,
     "metadata": {},
     "output_type": "execute_result"
    }
   ],
   "source": [
    "# Reemplazar una subcadena por otra. El resultado es una nueva cadena, no modifica la original.\n",
    "y.replace('La Mancha','Alicante')"
   ]
  },
  {
   "cell_type": "code",
   "execution_count": 11,
   "metadata": {
    "id": "RZpjxw8HctBg"
   },
   "outputs": [
    {
     "data": {
      "text/plain": [
       "15"
      ]
     },
     "execution_count": 11,
     "metadata": {},
     "output_type": "execute_result"
    }
   ],
   "source": [
    "# Buscar una subcadena. Devuelve la posición donde comienza la subcadena, y -1 si no la encuentra.\n",
    "y.find('La Mancha')"
   ]
  }
 ],
 "metadata": {
  "colab": {
   "provenance": [
    {
     "file_id": "18H3iarvv2HeJcDBMgwFdPy58QBLzmJrt",
     "timestamp": 1738743385220
    }
   ]
  },
  "kernelspec": {
   "display_name": "Python 3",
   "language": "python",
   "name": "python3"
  },
  "language_info": {
   "codemirror_mode": {
    "name": "ipython",
    "version": 3
   },
   "file_extension": ".py",
   "mimetype": "text/x-python",
   "name": "python",
   "nbconvert_exporter": "python",
   "pygments_lexer": "ipython3",
   "version": "3.11.9"
  }
 },
 "nbformat": 4,
 "nbformat_minor": 0
}
