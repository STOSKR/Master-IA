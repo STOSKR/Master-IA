{
 "cells": [
  {
   "cell_type": "markdown",
   "metadata": {
    "id": "xs0fZP-Ze9TL"
   },
   "source": [
    "NOTA: material de la asignatura Lenguaje Natural y Recuperación de la Información del grado en Ciencia de Datos de la ETSINF - UPV."
   ]
  },
  {
   "cell_type": "markdown",
   "metadata": {
    "id": "tkaxZQa8VIvz"
   },
   "source": [
    "**EXAMPLE 1: Simple Regular Expressions**"
   ]
  },
  {
   "cell_type": "code",
   "execution_count": 1,
   "metadata": {
    "id": "IOmPyOKcVJnV"
   },
   "outputs": [],
   "source": [
    "import re"
   ]
  },
  {
   "cell_type": "code",
   "execution_count": 2,
   "metadata": {
    "id": "6mW2ZWcBx0QD"
   },
   "outputs": [],
   "source": [
    "# To search for datascience, we type /datascience/. The expression r'datascience' matches any string containing the\n",
    "# substring datascience; grep with that expression would return the line 'I really want to be study datascience'.\n",
    "# The search string can consist of a single character (like /!/) or a sequence of characters (like /ugly/)\n",
    "\n",
    "s1 = \"I really want to be study datascience\"\n",
    "s2 = \"The virus was exceptionally ugly\"\n",
    "s3 =  \"Computers are amazing!\""
   ]
  },
  {
   "cell_type": "code",
   "execution_count": 3,
   "metadata": {
    "colab": {
     "base_uri": "https://localhost:8080/"
    },
    "id": "l-H1WL901ZVM",
    "outputId": "6ad8be0c-2777-426f-cb68-2fbf020301c8"
   },
   "outputs": [
    {
     "name": "stdout",
     "output_type": "stream",
     "text": [
      "datascience\n",
      "ugly\n",
      "!\n"
     ]
    }
   ],
   "source": [
    "\n",
    "matching =re.search(r'datascience', s1)\n",
    "print(matching.group())\n",
    "matching =re.search(r'ugly', s2)\n",
    "print(matching.group())\n",
    "matching =re.search(r'!', s3)\n",
    "print(matching.group())"
   ]
  },
  {
   "cell_type": "markdown",
   "metadata": {
    "id": "uta_OHkvM1rO"
   },
   "source": [
    "**EXAMPLE 2: Disjunction of Characters**"
   ]
  },
  {
   "cell_type": "code",
   "execution_count": 4,
   "metadata": {
    "colab": {
     "base_uri": "https://localhost:8080/"
    },
    "id": "EL67LUjWPmPQ",
    "outputId": "0b8bddb6-0add-4ae0-957b-300fe0cde2b2"
   },
   "outputs": [
    {
     "name": "stdout",
     "output_type": "stream",
     "text": [
      "Datascience\n",
      "a\n",
      "1\n"
     ]
    }
   ],
   "source": [
    "#Case-sensitive and character disjunctions\n",
    "\n",
    "s1 = \"Datascience and datascience\"\n",
    "s2 = \"The dog is on the sand\"\n",
    "s3 = \"The 10% of students like programming\"\n",
    "matching =re.search(r'[dD]atascience', s1)\n",
    "print(matching.group())\n",
    "matching =re.search(r'[abc]', s2)\n",
    "print(matching.group())\n",
    "matching =re.search(r'[0123456789]', s3)\n",
    "print(matching.group())"
   ]
  },
  {
   "cell_type": "markdown",
   "metadata": {
    "id": "kqtNjrgsNR6i"
   },
   "source": [
    "**EXAMPLE 3: Range of Characters**"
   ]
  },
  {
   "cell_type": "code",
   "execution_count": 5,
   "metadata": {
    "colab": {
     "base_uri": "https://localhost:8080/"
    },
    "id": "YSkKCp-eUqXM",
    "outputId": "60f71f45-2cf8-49e9-9b4b-cb50c6daea27"
   },
   "outputs": [
    {
     "name": "stdout",
     "output_type": "stream",
     "text": [
      "N\n",
      "l\n",
      "1\n"
     ]
    }
   ],
   "source": [
    "# r'[A-Z]' an upper case letter “I enrolled in the NLP course”\n",
    "# r'[a-z]' a lower case letter “Learning about language is great”\n",
    "# r'[0-9]' a single digit “Only 12 lessons of the NLP”\n",
    "s1 = \"enrolled in the NLP course\"\n",
    "s2 = \"learning about language is great\"\n",
    "s3 = \"only 12 lessons of the NLP\"\n",
    "\n",
    "matching=re.search(r'[A-Z]',s1)\n",
    "print(matching.group())\n",
    "matching=re.search(r'[a-z]',s2)\n",
    "print(matching.group())\n",
    "matching=re.search(r'[0-9]',s3)\n",
    "print(matching.group())"
   ]
  },
  {
   "cell_type": "code",
   "execution_count": 6,
   "metadata": {
    "colab": {
     "base_uri": "https://localhost:8080/"
    },
    "id": "5NJBx_-8aU99",
    "outputId": "6d55ae2c-e0c9-4af8-824d-886dfe523f5c"
   },
   "outputs": [
    {
     "name": "stdout",
     "output_type": "stream",
     "text": [
      "n\n",
      "p\n",
      "o\n",
      "^\n",
      "a^b\n"
     ]
    }
   ],
   "source": [
    "#r'[ˆA-Z]' not an upper case letter “Enrolled In tHe NLP course”\n",
    "#r'[ˆSs]' neither ‘S’ nor ‘s’ “Spring is sweet and safe”\n",
    "#r'[ˆ.]' not a period “our professor Rosso”\n",
    "#r'[eˆ]' either ‘e’ or ‘ˆ’ “Look up ˆ now ”\n",
    "#r'aˆb' the pattern ‘aˆb’ “look up aˆb now”\n",
    "\n",
    "s1 = \"Enrolled In tHe NLP course \"\n",
    "s2 = \"Spring is sweet and safe\"\n",
    "s3 = \".our professor Rosso.\"\n",
    "s4 = \"Look up ^ now \"\n",
    "s5 = \"Look up a^b now\"\n",
    "\n",
    "matching=re.search(r'[^A-Z]',s1)\n",
    "print(matching.group())\n",
    "matching=re.search(r'[^Ss]',s2)\n",
    "print(matching.group())\n",
    "matching=re.search(r'[^.]',s3)\n",
    "print(matching.group())\n",
    "matching=re.search(r'[e^]',s4)\n",
    "print(matching.group())\n",
    "matching=re.search(r'a\\^b',s5)\n",
    "print(matching.group())"
   ]
  },
  {
   "cell_type": "markdown",
   "metadata": {
    "id": "a0Pakk2hNjSP"
   },
   "source": [
    "**EXAMPLE 4: Using Perido (.) and ?**"
   ]
  },
  {
   "cell_type": "code",
   "execution_count": 7,
   "metadata": {
    "colab": {
     "base_uri": "https://localhost:8080/"
    },
    "id": "kvB8AURukliZ",
    "outputId": "db788a5c-796d-40d1-e7f4-6010dcc3c7ba"
   },
   "outputs": [
    {
     "name": "stdout",
     "output_type": "stream",
     "text": [
      "progamers\n",
      "colours\n",
      "begin\n"
     ]
    }
   ],
   "source": [
    "s1 = \"The progamers are bussy\"\n",
    "s2 = \"True colours in the sky\"\n",
    "s3 = \"The show begin at 8pm\"\n",
    "matching=re.search(r'progamm?ers',s1)\n",
    "print(matching.group())\n",
    "matching=re.search(r'colou?rs',s2)\n",
    "print(matching.group())\n",
    "matching=re.search(r'beg.n',s3)\n",
    "print(matching.group())"
   ]
  },
  {
   "cell_type": "markdown",
   "metadata": {
    "id": "L83vTG8DOSip"
   },
   "source": [
    "**EXAMPLE 5: Using Kleene (*) and Kleene+**"
   ]
  },
  {
   "cell_type": "code",
   "execution_count": 8,
   "metadata": {
    "colab": {
     "base_uri": "https://localhost:8080/"
    },
    "id": "IQyVSW3s7u2d",
    "outputId": "00bc9484-deb8-471c-e2a7-845c048fe46f"
   },
   "outputs": [
    {
     "name": "stdout",
     "output_type": "stream",
     "text": [
      "baa!\n",
      "aa\n",
      "ab\n",
      "0\n"
     ]
    }
   ],
   "source": [
    "s1 = \"baa! baaaa! baaaa! ... \"\n",
    "s2 = \"aa aaaaa aaaaaaa ... \"\n",
    "s3 = \"ab aab baab, babba ... \"\n",
    "s4 = \"0 01 12 359 99999 ... \"\n",
    "\n",
    "matching=re.search(r'baa*!',s1)\n",
    "print(matching.group())\n",
    "matching=re.search(r'aa*',s2)\n",
    "print(matching.group())\n",
    "matching=re.search(r'[ab]*',s3)\n",
    "print(matching.group())\n",
    "matching=re.search(r'[0-9]+',s4)\n",
    "print(matching.group())"
   ]
  },
  {
   "cell_type": "markdown",
   "metadata": {
    "id": "ePL7DcfNSSjA"
   },
   "source": [
    "**EXAMPLE 6: Anchors**"
   ]
  },
  {
   "cell_type": "code",
   "execution_count": 9,
   "metadata": {
    "colab": {
     "base_uri": "https://localhost:8080/"
    },
    "id": "kI2__MRIESfy",
    "outputId": "a15c5cb7-e36d-40a5-fab5-2b79866e0c7d"
   },
   "outputs": [
    {
     "name": "stdout",
     "output_type": "stream",
     "text": [
      "Python is\n",
      "useful.\n",
      "Python is useful.\n",
      "the\n",
      "No match found\n",
      "the\n"
     ]
    }
   ],
   "source": [
    "s1 = \"Python is easy\"\n",
    "s2 = \"Programming is useful.\"\n",
    "s3 = \"Python is useful.\"\n",
    "s4 = \"Students have the Test\"\n",
    "s5 = \"Students have another Test\"\n",
    "\n",
    "matching = re.search(r'^Python is',s1)\n",
    "print(matching.group())\n",
    "matching = re.search(r'useful\\.$',s2)\n",
    "print(matching.group())\n",
    "matching = re.search(r'^Python is useful\\.$', s3)\n",
    "print(matching.group())\n",
    "matching = re.search(r'\\bthe\\b',s4)\n",
    "print(matching.group())\n",
    "matching = re.search(r'\\bthe\\b', s5)\n",
    "if matching:\n",
    "  print(matching.group())\n",
    "else:\n",
    "  print(\"No match found\")\n",
    "matching = re.search(r'\\Bthe\\B', s5)\n",
    "print(matching.group())"
   ]
  },
  {
   "cell_type": "markdown",
   "metadata": {
    "id": "geaMr38US-4a"
   },
   "source": [
    "**EXAMPLE 7: Groups**"
   ]
  },
  {
   "cell_type": "code",
   "execution_count": 10,
   "metadata": {
    "colab": {
     "base_uri": "https://localhost:8080/"
    },
    "id": "LT6nvxdTljsj",
    "outputId": "91d54e02-e0f9-437e-e517-1ac2f92f8bef"
   },
   "outputs": [
    {
     "name": "stdout",
     "output_type": "stream",
     "text": [
      "cat\n",
      "dog\n",
      "dog is black\n",
      "cat is white\n"
     ]
    }
   ],
   "source": [
    "matching=re.search(r'cat|dog',\"the cat is on the table\")\n",
    "print(matching.group())\n",
    "matching=re.search(r'cat|dog',\"the dog is on the table\")\n",
    "print(matching.group())\n",
    "\n",
    "matching=re.search(r'(cat|dog) is (black|white)',\"the dog is black\")\n",
    "print(matching.group())\n",
    "matching=re.search(r'(cat|dog) is (black|white)',\"the cat is white\")\n",
    "print(matching.group())\n"
   ]
  },
  {
   "cell_type": "code",
   "execution_count": 11,
   "metadata": {
    "colab": {
     "base_uri": "https://localhost:8080/"
    },
    "id": "C4pz75jemNi0",
    "outputId": "745963e0-7c9c-4a78-a4c8-650f5287890b"
   },
   "outputs": [
    {
     "name": "stdout",
     "output_type": "stream",
     "text": [
      "The number of matched groups is: 2\n",
      "group 0 cat\n",
      "group 1 white\n"
     ]
    }
   ],
   "source": [
    "total_matches=len(matching.groups())\n",
    "print(\"The number of matched groups is:\", total_matches)\n",
    "for i in range(total_matches):\n",
    "  print(\"group\",i,matching.group(i+1))\n",
    "\n"
   ]
  },
  {
   "cell_type": "markdown",
   "metadata": {
    "id": "C5DaRqs1TN-P"
   },
   "source": [
    "**EXAMPLE 8: Named Groups**"
   ]
  },
  {
   "cell_type": "code",
   "execution_count": 12,
   "metadata": {
    "colab": {
     "base_uri": "https://localhost:8080/"
    },
    "id": "bkZPlp_BnwY-",
    "outputId": "700726cd-b7fa-497a-f8c3-3feb86ee9496"
   },
   "outputs": [
    {
     "name": "stdout",
     "output_type": "stream",
     "text": [
      "The number of matched groups is: 5\n",
      "group name John Smith\n",
      "group phone +34 612345678\n",
      "group prefix +34\n",
      "group number 612345678\n"
     ]
    }
   ],
   "source": [
    "#NAMED GROUPS 1\n",
    "pattern = \"(?P<name>[a-zA-Z\\- ]+)\\s+(?P<phone>(?P<prefix>\\+\\d{1,3})\\s(?P<number>(\\d{9}|\\d{3}\\s\\d{3}\\s\\d{3})))\"\n",
    "matching = re.search(pattern,\"John Smith +34 612345678\")\n",
    "total_matches = len(matching.groups())\n",
    "print(\"The number of matched groups is:\", total_matches)\n",
    "\n",
    "print(\"group name\", matching.group(\"name\"))\n",
    "print(\"group phone\", matching.group(\"phone\"))\n",
    "print(\"group prefix\", matching.group(\"prefix\"))\n",
    "print(\"group number\",matching.group(\"number\"))"
   ]
  },
  {
   "cell_type": "markdown",
   "metadata": {
    "id": "bnpDiWcPTYI9"
   },
   "source": [
    "**EXAMPLE 9: Non-Capturing Groups**"
   ]
  },
  {
   "cell_type": "code",
   "execution_count": 13,
   "metadata": {
    "colab": {
     "base_uri": "https://localhost:8080/"
    },
    "id": "FEnrsOvPow4l",
    "outputId": "307be315-4b2e-4c8a-c6bd-f2be25acd2f6"
   },
   "outputs": [
    {
     "name": "stdout",
     "output_type": "stream",
     "text": [
      "The number of matched groups is: 4\n",
      "group name John Smith\n",
      "group phone +34 612345678\n",
      "group number 612345678\n"
     ]
    }
   ],
   "source": [
    "#NAMED GROUPS 2\n",
    "\n",
    "pattern = \"(?P<name>[a-zA-Z\\- ]+)\\s+(?P<phone>(?:\\+\\d{1,3})\\s(?P<number>(\\d{9}|\\d{3}\\s\\d{3}\\s\\d{3})))\"\n",
    "matching = re.search(pattern,\"John Smith +34 612345678\")\n",
    "total_matches = len(matching.groups())\n",
    "print(\"The number of matched groups is:\", total_matches)\n",
    "\n",
    "print(\"group name\", matching.group(\"name\"))\n",
    "print(\"group phone\", matching.group(\"phone\"))\n",
    "#print(\"group prefix\", matching.group(\"prefix\"))\n",
    "print(\"group number\",matching.group(\"number\"))"
   ]
  },
  {
   "cell_type": "markdown",
   "metadata": {
    "id": "QSYTcuDtTokg"
   },
   "source": [
    "**EXAMPLE 10: Back References**"
   ]
  },
  {
   "cell_type": "code",
   "execution_count": 14,
   "metadata": {
    "colab": {
     "base_uri": "https://localhost:8080/"
    },
    "id": "cN_ZChiNqk9d",
    "outputId": "1616581a-9253-4d92-972e-f7cccce78290"
   },
   "outputs": [
    {
     "name": "stdout",
     "output_type": "stream",
     "text": [
      "hello\n",
      "hello\n"
     ]
    }
   ],
   "source": [
    "#Back reference using named groups\n",
    "pattern= r\"(?P<word>\\w+)\\s+(?P=word)\"\n",
    "matching = re.search(pattern,\"hello  hello\")\n",
    "print(matching.group(\"word\"))\n",
    "\n",
    "#Back reference using unnamed groups\n",
    "pattern = r\"(\\w+)\\s+(\\1)\"\n",
    "matching = re.search(pattern,\"hello  hello\")\n",
    "print(matching.group(1))"
   ]
  },
  {
   "cell_type": "markdown",
   "metadata": {
    "id": "Zz5sOFyBURX1"
   },
   "source": [
    "**EXAMPLE 11: Methods 'search' and 'match'**"
   ]
  },
  {
   "cell_type": "code",
   "execution_count": 15,
   "metadata": {
    "colab": {
     "base_uri": "https://localhost:8080/"
    },
    "id": "nrnGaNKLsMqt",
    "outputId": "c0c0e3de-5449-45cd-95eb-f6b5656fb2e2"
   },
   "outputs": [
    {
     "name": "stdout",
     "output_type": "stream",
     "text": [
      "<re.Match object; span=(12, 24), match='hello  hello'>\n",
      "None\n"
     ]
    }
   ],
   "source": [
    "pattern= r\"(?P<word>\\w+)\\s+(?P=word)\"\n",
    "matching = re.search(pattern,\"Only saying hello  hello\")\n",
    "print(matching)\n",
    "\n",
    "matching = re.match(pattern,\"Only saying hello  hello\")\n",
    "print(matching)"
   ]
  },
  {
   "cell_type": "markdown",
   "metadata": {
    "id": "ng-y3fABUomS"
   },
   "source": [
    "**EXAMPLE 12: Methods and Flags in Compiled Regular Expressions**"
   ]
  },
  {
   "cell_type": "code",
   "execution_count": 16,
   "metadata": {
    "colab": {
     "base_uri": "https://localhost:8080/"
    },
    "id": "iS3bK-ckxNt4",
    "outputId": "21da0e0d-4b5d-4ab2-9848-84ccef7a0491"
   },
   "outputs": [
    {
     "name": "stdout",
     "output_type": "stream",
     "text": [
      "finditer(): Found 'Hello' at position 0\n",
      "finditer(): Found 'HELLO' at position 29\n",
      "DOTALL flag: Found 'Hello World!\n",
      "This is a test.\n",
      "HELLO again' across newlines.\n",
      "VERBOSE flag: Found 'Hello' with comments.\n"
     ]
    }
   ],
   "source": [
    "text = \"\"\"Hello World!\n",
    "This is a test.\n",
    "HELLO again.\"\"\"\n",
    "\n",
    "# Compile a regex pattern with multiple flags: IGNORECASE and MULTILINE\n",
    "pattern = re.compile(r\"^hello\", re.IGNORECASE | re.MULTILINE)\n",
    "\n",
    "# Checks if the pattern matches the beginning of the string\n",
    "match_result = pattern.match(text)\n",
    "\n",
    "# Finds the first occurrence of the pattern anywhere in the string\n",
    "search_result = pattern.search(text)\n",
    "\n",
    "# Finds all substrings matching the pattern and returns them as a list\n",
    "findall_result = pattern.findall(text)\n",
    "\n",
    "\n",
    "# Returns an iterator of match objects for all matches in the string\n",
    "finditer_result = pattern.finditer(text)\n",
    "for match in finditer_result:\n",
    "    print(f\"finditer(): Found '{match.group()}' at position {match.start()}\")\n",
    "\n",
    "# Using DOTALL flag to match across newlines\n",
    "dotall_pattern = re.compile(r\"Hello.*again\", re.DOTALL)\n",
    "dotall_match = dotall_pattern.search(text)\n",
    "if dotall_match:\n",
    "    print(f\"DOTALL flag: Found '{dotall_match.group()}' across newlines.\")\n",
    "\n",
    "# Using VERBOSE flag to write readable regular expressions with comments\n",
    "verbose_pattern = re.compile(r\"\"\"\n",
    "    ^       # start of the line\n",
    "    hello   # match 'hello'\n",
    "\"\"\", re.IGNORECASE | re.VERBOSE | re.MULTILINE)\n",
    "\n",
    "verbose_search = verbose_pattern.search(text)\n",
    "if verbose_search:\n",
    "    print(f\"VERBOSE flag: Found '{verbose_search.group()}' with comments.\")"
   ]
  },
  {
   "cell_type": "markdown",
   "metadata": {
    "id": "eGpAlpoHU3iO"
   },
   "source": [
    "**EXAMPLE 13: Modifying Sequence with Regular Expressions**"
   ]
  },
  {
   "cell_type": "code",
   "execution_count": 17,
   "metadata": {
    "colab": {
     "base_uri": "https://localhost:8080/"
    },
    "id": "0AVYro0mvq4F",
    "outputId": "3d99acd7-0916-4d5e-b184-546f0d63e7d2"
   },
   "outputs": [
    {
     "name": "stdout",
     "output_type": "stream",
     "text": [
      "['apple', 'banana', 'orange']\n",
      "hello number world number\n",
      "hello number world number\n",
      "2\n"
     ]
    }
   ],
   "source": [
    "pattern = re.compile(r\",\")\n",
    "result = pattern.split(\"apple,banana,orange\")\n",
    "print(result)\n",
    "\n",
    "pattern = re.compile(r\"\\d+\")\n",
    "result = pattern.sub(\"number\", \"hello 123 world 456\")\n",
    "print(result)\n",
    "\n",
    "pattern = re.compile(r\"\\d+\")\n",
    "result, count = pattern.subn(\"number\", \"hello 123 world 456\")\n",
    "print(result)\n",
    "print(count)"
   ]
  }
 ],
 "metadata": {
  "colab": {
   "provenance": []
  },
  "kernelspec": {
   "display_name": "Python 3",
   "name": "python3"
  },
  "language_info": {
   "codemirror_mode": {
    "name": "ipython",
    "version": 3
   },
   "file_extension": ".py",
   "mimetype": "text/x-python",
   "name": "python",
   "nbconvert_exporter": "python",
   "pygments_lexer": "ipython3",
   "version": "3.11.9"
  }
 },
 "nbformat": 4,
 "nbformat_minor": 0
}
