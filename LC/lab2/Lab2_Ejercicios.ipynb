{
  "cells": [
    {
      "cell_type": "markdown",
      "metadata": {
        "id": "vYIs0myJTOog"
      },
      "source": [
        "## <h1 align=\"center\"> Lingüística Computacional - MIARFID</h1>\n",
        "## <h1 align=\"center\"> Laboratorio 2 - Etiquetado de secuencias</h1>"
      ]
    },
    {
      "cell_type": "markdown",
      "metadata": {
        "id": "SlX_hvxOS_eO"
      },
      "source": [
        "# Indicad el nombre de lxs estudiantes que realizan la entrega\n",
        "# Estudiante 1:\n",
        "# Estudiante 2:"
      ]
    },
    {
      "cell_type": "markdown",
      "metadata": {
        "id": "GhmeIVRQsyam"
      },
      "source": [
        "# Ejercicio 1 - Análisis del corpus Treebank"
      ]
    },
    {
      "cell_type": "markdown",
      "metadata": {
        "id": "FxU46NGwsyan"
      },
      "source": [
        "Analiza el corpus etiquetado Penn Treebank, utilizando el conjunto de etiquetas 'universal' (tagset='universal'). En concreto, se desea…"
      ]
    },
    {
      "cell_type": "markdown",
      "metadata": {
        "id": "gJQOa7Ocsyao"
      },
      "source": [
        "1.1 Mostrar gráficamente las etiquetas que aparecen y sus frecuencias."
      ]
    },
    {
      "cell_type": "code",
      "execution_count": 1,
      "metadata": {
        "colab": {
          "base_uri": "https://localhost:8080/"
        },
        "id": "21u4NJj1oUCu",
        "outputId": "ab4ba1d5-852a-497d-8e6e-da6c9139fe2a"
      },
      "outputs": [
        {
          "name": "stderr",
          "output_type": "stream",
          "text": [
            "[nltk_data] Downloading package treebank to\n",
            "[nltk_data]     C:\\Users\\shiyi\\AppData\\Roaming\\nltk_data...\n",
            "[nltk_data]   Package treebank is already up-to-date!\n",
            "[nltk_data] Downloading package universal_tagset to\n",
            "[nltk_data]     C:\\Users\\shiyi\\AppData\\Roaming\\nltk_data...\n",
            "[nltk_data]   Package universal_tagset is already up-to-date!\n"
          ]
        }
      ],
      "source": [
        "import nltk\n",
        "nltk.download('treebank')\n",
        "nltk.download('universal_tagset')\n",
        "from nltk.corpus import treebank\n",
        "from nltk.probability import FreqDist"
      ]
    },
    {
      "cell_type": "code",
      "execution_count": 5,
      "metadata": {},
      "outputs": [
        {
          "name": "stdout",
          "output_type": "stream",
          "text": [
            "Ejemplo de oración etiquetada:\n",
            "[('Pierre', 'NOUN'), ('Vinken', 'NOUN'), (',', '.'), ('61', 'NUM'), ('years', 'NOUN'), ('old', 'ADJ'), (',', '.'), ('will', 'VERB'), ('join', 'VERB'), ('the', 'DET'), ('board', 'NOUN'), ('as', 'ADP'), ('a', 'DET'), ('nonexecutive', 'ADJ'), ('director', 'NOUN'), ('Nov.', 'NOUN'), ('29', 'NUM'), ('.', '.')]\n",
            "Número de oraciones en el corpus: 3914\n"
          ]
        }
      ],
      "source": [
        "sentences = list(treebank.tagged_sents(tagset='universal'))\n",
        "print(f\"Ejemplo de oración etiquetada:\\n{sentences[0]}\")\n",
        "print(f\"Número de oraciones en el corpus: {len(sentences)}\")"
      ]
    },
    {
      "cell_type": "code",
      "execution_count": 12,
      "metadata": {},
      "outputs": [
        {
          "name": "stdout",
          "output_type": "stream",
          "text": [
            "Tipos de etiquetas: 12\n",
            "Total de etiquetas: 100676\n",
            ".: 11715\n",
            "ADJ: 6397\n",
            "ADP: 9857\n",
            "ADV: 3171\n",
            "CONJ: 2265\n",
            "DET: 8725\n",
            "NOUN: 28867\n",
            "NUM: 3546\n",
            "PRON: 2737\n",
            "PRT: 3219\n",
            "VERB: 13564\n",
            "X: 6613\n"
          ]
        },
        {
          "data": {
            "image/png": "[encoded data removed]",
            "text/plain": [
              "<Figure size 500x300 with 1 Axes>"
            ]
          },
          "metadata": {},
          "output_type": "display_data"
        }
      ],
      "source": [
        "import matplotlib.pyplot as plt\n",
        "\n",
        "# Extraer todas las etiquetas del corpus\n",
        "tags = [tag for sent in sentences for (_, tag) in sent]\n",
        "\n",
        "# Calcular la frecuencia de cada etiqueta\n",
        "fdist = FreqDist(tags)\n",
        "\n",
        "print(\"Tipos de etiquetas:\", len(fdist))\n",
        "print(\"Total de etiquetas:\", len(tags))\n",
        "\n",
        "# Imprime en orden alfabético\n",
        "for tag, freq in sorted(fdist.items()):\n",
        "    print(f\"{tag}: {freq}\")\n",
        "\n",
        "# Gráfica de frecuencias\n",
        "plt.figure(figsize=(5,3))\n",
        "fdist.plot(title=\"Samples\")\n",
        "plt.xlabel(\"Etiqueta\")\n",
        "plt.ylabel(\"Frecuencia\")\n",
        "plt.show()"
      ]
    },
    {
      "cell_type": "markdown",
      "metadata": {
        "id": "uT_b_bVBsyaq"
      },
      "source": [
        "1.2 Mostrar cuál es la frecuencia (porcentaje) de aparición de cada una de las etiquetas en el corpus."
      ]
    },
    {
      "cell_type": "code",
      "execution_count": 15,
      "metadata": {
        "colab": {
          "base_uri": "https://localhost:8080/"
        },
        "id": "lgV7OcEUsyaq",
        "outputId": "7d018c20-c9c7-4e9a-9a90-d2c324e7eecb"
      },
      "outputs": [
        {
          "name": "stdout",
          "output_type": "stream",
          "text": [
            "Frecuencia de etiquetas en porcentaje:\n",
            ".: 11.64%\n",
            "ADJ: 6.35%\n",
            "ADP: 9.79%\n",
            "ADV: 3.15%\n",
            "CONJ: 2.25%\n",
            "DET: 8.67%\n",
            "NOUN: 28.67%\n",
            "NUM: 3.52%\n",
            "PRON: 2.72%\n",
            "PRT: 3.20%\n",
            "VERB: 13.47%\n",
            "X: 6.57%\n"
          ]
        }
      ],
      "source": [
        "# Contar la frecuencia en porcentaje de cada etiqueta gramatical\n",
        "tags = [tag for sent in sentences for (word, tag) in sent]\n",
        "fdist = FreqDist(tags)\n",
        "total_tags = len(tags)\n",
        "print(\"Frecuencia de etiquetas en porcentaje:\")\n",
        "for tag, freq in sorted(fdist.items()):\n",
        "    porcentaje = (freq / total_tags) * 100\n",
        "    print(f\"{tag}: {porcentaje:.2f}%\")"
      ]
    },
    {
      "cell_type": "markdown",
      "metadata": {
        "id": "adLMXo08syar"
      },
      "source": [
        "1.3 Mostrar las palabras con un grado de ambigüedad mayor que 3; es decir, las palabras que aparecen con más de tres etiquetas asociadas."
      ]
    },
    {
      "cell_type": "code",
      "execution_count": 23,
      "metadata": {},
      "outputs": [
        {
          "name": "stdout",
          "output_type": "stream",
          "text": [
            "Palabra\tEtiquetas\n",
            "         a\t{'X', 'DET', 'ADJ', 'ADP', 'NOUN'}\n",
            "       and\t{'CONJ', 'ADP', 'NOUN', 'ADJ'}\n",
            "      back\t{'PRT', 'ADJ', 'ADV', 'NOUN', 'VERB'}\n",
            "     close\t{'ADJ', 'NOUN', 'ADV', 'VERB'}\n",
            "      down\t{'NOUN', 'ADP', 'ADV', 'PRT'}\n",
            "     first\t{'ADJ', 'NOUN', 'ADV', 'NUM'}\n",
            "      free\t{'ADJ', 'NOUN', 'ADV', 'VERB'}\n",
            "        in\t{'NOUN', 'ADV', 'ADP', 'PRT'}\n",
            "      last\t{'ADJ', 'NOUN', 'ADV', 'VERB'}\n",
            "       off\t{'ADJ', 'ADP', 'ADV', 'PRT'}\n",
            "        on\t{'ADV', 'NOUN', 'ADP', 'PRT'}\n",
            "      over\t{'ADJ', 'ADV', 'ADP', 'PRT'}\n",
            "       the\t{'ADJ', 'NOUN', 'NUM', 'DET'}\n",
            "Total de palabras con ambigüedad > 3: 13\n"
          ]
        }
      ],
      "source": [
        "# Palabras con más de tres etiquetas asociadas\n",
        "word_tags = {}\n",
        "for sent in sentences:\n",
        "    for word, tag in sent:\n",
        "        if word.lower() not in word_tags:\n",
        "            word_tags[word.lower()] = set()\n",
        "        word_tags[word.lower()].add(tag)\n",
        "\n",
        "\n",
        "ambiguous_words = {}\n",
        "for word, tags in word_tags.items():\n",
        "    if len(tags) > 3:\n",
        "        ambiguous_words[word] = tags\n",
        "\n",
        "print('Palabra\\tEtiquetas')\n",
        "for w, tags in sorted(ambiguous_words.items()):\n",
        "    print(f'{w:>10}\\t{tags}')\n",
        "print('Total de palabras con ambigüedad > 3:', len(ambiguous_words))"
      ]
    },
    {
      "cell_type": "markdown",
      "metadata": {
        "id": "A0VzXPlNn89h"
      },
      "source": [
        "# Ejercicio 2 - TrigramTagger"
      ]
    },
    {
      "cell_type": "markdown",
      "metadata": {
        "id": "J6eiy61en89l"
      },
      "source": [
        "2.1 Entrena y evalúa un etiquetador basado en trigramas (TrigramTagger) sobre el corpus Penn Treebank utilizando el tagset='universal'. Corpus treebank 90% train - 10% test."
      ]
    },
    {
      "cell_type": "code",
      "execution_count": 26,
      "metadata": {
        "id": "7JKM8_u2qJu7"
      },
      "outputs": [],
      "source": [
        "from nltk.tag import DefaultTagger, UnigramTagger, BigramTagger, TrigramTagger\n",
        "from nltk.corpus import treebank"
      ]
    },
    {
      "cell_type": "code",
      "execution_count": 29,
      "metadata": {},
      "outputs": [
        {
          "name": "stdout",
          "output_type": "stream",
          "text": [
            "['Kalamazoo', ',', 'Mich.-based', 'First', 'of', 'America', 'said', '0', 'it', 'will', 'eliminate', 'the', '13', 'management', 'positions', 'of', 'the', 'former', 'Midwest', 'Financial', 'parent', 'company', '.']\n",
            "[('Kalamazoo', None), (',', None), ('Mich.-based', None), ('First', None), ('of', None), ('America', None), ('said', None), ('0', None), ('it', None), ('will', None), ('eliminate', None), ('the', None), ('13', None), ('management', None), ('positions', None), ('of', None), ('the', None), ('former', None), ('Midwest', None), ('Financial', None), ('parent', None), ('company', None), ('.', None)]\n",
            "Tasa de acierto de Unigramas: 9.1%\n"
          ]
        }
      ],
      "source": [
        "talla = int(len(sentences) * 0.9)\n",
        "train_sents = sentences[:talla]\n",
        "test_sents = sentences[talla:]\n",
        "\n",
        "trigram_tagger = TrigramTagger(train_sents)\n",
        "sent1=treebank.sents()[talla]\n",
        "print(sent1)\n",
        "print(trigram_tagger.tag(sent1))\n",
        "\n",
        "okUni = round(trigram_tagger.accuracy(test_sents) * 100, 2)\n",
        "print(\"Tasa de acierto de Trigramas: \"+ str(okUni) + \"%\")"
      ]
    },
    {
      "cell_type": "code",
      "execution_count": 30,
      "metadata": {
        "colab": {
          "base_uri": "https://localhost:8080/"
        },
        "id": "W-NAGQ5Qn89o",
        "outputId": "0ffa1375-da20-4063-d47b-bfb8431e6257"
      },
      "outputs": [
        {
          "name": "stdout",
          "output_type": "stream",
          "text": [
            "Tasa de acierto de Unigramas: 88.16%\n"
          ]
        }
      ],
      "source": [
        "unigram_tagger = UnigramTagger(train_sents)\n",
        "okUni = round(unigram_tagger.accuracy(test_sents) * 100, 2);\n",
        "print(\"Tasa de acierto de Unigramas: \"+ str(okUni) + \"%\")"
      ]
    },
    {
      "cell_type": "code",
      "execution_count": 46,
      "metadata": {},
      "outputs": [
        {
          "name": "stdout",
          "output_type": "stream",
          "text": [
            "NOUN\n",
            "[('Kalamazoo', 'NOUN'), (',', 'NOUN'), ('Mich.-based', 'NOUN'), ('First', 'NOUN'), ('of', 'NOUN'), ('America', 'NOUN'), ('said', 'NOUN'), ('0', 'NOUN'), ('it', 'NOUN'), ('will', 'NOUN'), ('eliminate', 'NOUN'), ('the', 'NOUN'), ('13', 'NOUN'), ('management', 'NOUN'), ('positions', 'NOUN'), ('of', 'NOUN'), ('the', 'NOUN'), ('former', 'NOUN'), ('Midwest', 'NOUN'), ('Financial', 'NOUN'), ('parent', 'NOUN'), ('company', 'NOUN'), ('.', 'NOUN')]\n",
            "Tasas de acierto:\n",
            "Default Tagger: 30.36%\n"
          ]
        }
      ],
      "source": [
        "import pprint\n",
        "from nltk.corpus import treebank\n",
        "from nltk.tag import DefaultTagger\n",
        "from nltk.probability import FreqDist\n",
        "# calcular la tag más frecuente en el train\n",
        "tags = []\n",
        "for sent in sentences:\n",
        "    for word, tag in sent:\n",
        "        tags.append(tag)\n",
        "masFTag = FreqDist(tags).max()\n",
        "print(masFTag)\n",
        "default_tagger = DefaultTagger(masFTag)\n",
        "print(default_tagger.tag(sent1))\n",
        "okDef = round(default_tagger.accuracy(test_sents) * 100, 2);\n",
        "print(\"Tasas de acierto:\")\n",
        "print(\"Default Tagger: \" + str(okDef) + \"%\")\n"
      ]
    },
    {
      "cell_type": "code",
      "execution_count": 49,
      "metadata": {},
      "outputs": [],
      "source": [
        "unigram_tagger = UnigramTagger(train_sents, backoff = default_tagger)\n",
        "bigram_tagger = BigramTagger(train_sents, backoff= unigram_tagger)\n",
        "backoff_tagger = TrigramTagger(train_sents, backoff= bigram_tagger)"
      ]
    },
    {
      "cell_type": "code",
      "execution_count": 50,
      "metadata": {},
      "outputs": [
        {
          "name": "stdout",
          "output_type": "stream",
          "text": [
            "Tasa de acierto de Bigramas - backoff: 94.02%\n"
          ]
        }
      ],
      "source": [
        "okBiBO = round(backoff_tagger.accuracy(test_sents) * 100, 2)\n",
        "print(\"Tasa de acierto de Bigramas - backoff: \" + str(okBiBO) + \"%\")"
      ]
    },
    {
      "cell_type": "markdown",
      "metadata": {
        "id": "qwzy-HEBrAlk"
      },
      "source": [
        "2.3 Utiliza un modelo de afijos (AffixTagger) para mejorar los resultados. Prueba distintos tamaños de prefijos y sufijos, y escoge el mejor"
      ]
    },
    {
      "cell_type": "code",
      "execution_count": 53,
      "metadata": {
        "id": "DzIzuhUyreYy"
      },
      "outputs": [],
      "source": [
        "from nltk.tag import AffixTagger"
      ]
    },
    {
      "cell_type": "code",
      "execution_count": 68,
      "metadata": {},
      "outputs": [
        {
          "name": "stdout",
          "output_type": "stream",
          "text": [
            "Tasa de acierto de AffixTagger:  -4  --  25.85 %\n",
            "Tasa de acierto del modelo de Trigramas con tratamiento de afijos: 92.1 %\n",
            "Tasa de acierto de AffixTagger:  -3  --  32.94 %\n",
            "Tasa de acierto del modelo de Trigramas con tratamiento de afijos: 93.47 %\n",
            "Tasa de acierto de AffixTagger:  -2  --  39.15 %\n",
            "Tasa de acierto del modelo de Trigramas con tratamiento de afijos: 94.32 %\n",
            "Tasa de acierto de AffixTagger:  -1  --  42.02 %\n",
            "Tasa de acierto del modelo de Trigramas con tratamiento de afijos: 94.55 %\n",
            "Tasa de acierto de AffixTagger:  0  --  73.62 %\n",
            "Tasa de acierto del modelo de Trigramas con tratamiento de afijos: 88.6 %\n",
            "Tasa de acierto de AffixTagger:  1  --  43.57 %\n",
            "Tasa de acierto del modelo de Trigramas con tratamiento de afijos: 94.35 %\n",
            "Tasa de acierto de AffixTagger:  2  --  36.44 %\n",
            "Tasa de acierto del modelo de Trigramas con tratamiento de afijos: 94.24 %\n",
            "Tasa de acierto de AffixTagger:  3  --  30.35 %\n",
            "Tasa de acierto del modelo de Trigramas con tratamiento de afijos: 92.73 %\n"
          ]
        }
      ],
      "source": [
        "# Specifying 3 character prefixes\n",
        "lista = [-4, -3, -2, -1, 0, 1, 2, 3]\n",
        "mejor = 0\n",
        "for i in lista:\n",
        "    prefix_tag = AffixTagger(train_sents,affix_length=i)\n",
        "    accuracy = round(prefix_tag.accuracy(test_sents)*100,2)\n",
        "    print (\"Tasa de acierto de AffixTagger: \", str(i), \" -- \", accuracy, \"%\")\n",
        "    unigram_tagger = UnigramTagger(train_sents, backoff = prefix_tag)\n",
        "    bigram_tagger = BigramTagger(train_sents, backoff= unigram_tagger)\n",
        "    backoff_tagger = TrigramTagger(train_sents, backoff= bigram_tagger)\n",
        "    okBiBO = round(backoff_tagger.accuracy(test_sents) * 100, 2)\n",
        "    if okBiBO > mejor:\n",
        "        mejor = okBiBO\n",
        "    print(\"Tasa de acierto del modelo de Trigramas con tratamiento de afijos:\", okBiBO,\"%\")"
      ]
    },
    {
      "cell_type": "code",
      "execution_count": 67,
      "metadata": {
        "colab": {
          "base_uri": "https://localhost:8080/"
        },
        "id": "5MFGa-jCsbFm",
        "outputId": "daff6a7f-46c4-497b-efe5-c5f4634c9018"
      },
      "outputs": [
        {
          "name": "stdout",
          "output_type": "stream",
          "text": [
            "Tasa de acierto del modelo de Trigramas con tratamiento de afijos: 94.55 %\n"
          ]
        }
      ],
      "source": [
        "print(\"Tasa de acierto del modelo de Trigramas con tratamiento de afijos:\",mejor,\"%\")"
      ]
    },
    {
      "cell_type": "markdown",
      "metadata": {
        "id": "rgJ0PRPIFDhm"
      },
      "source": [
        "2.4 Repite el experimento utilizando el conjunto de etiquetas original de treebank y compara los resultados."
      ]
    },
    {
      "cell_type": "code",
      "execution_count": 81,
      "metadata": {},
      "outputs": [
        {
          "name": "stdout",
          "output_type": "stream",
          "text": [
            "['Kalamazoo', ',', 'Mich.-based', 'First', 'of', 'America', 'said', '0', 'it', 'will', 'eliminate', 'the', '13', 'management', 'positions', 'of', 'the', 'former', 'Midwest', 'Financial', 'parent', 'company', '.']\n",
            "[('Kalamazoo', None), (',', ','), ('Mich.-based', None), ('First', 'NNP'), ('of', 'IN'), ('America', 'NNP'), ('said', 'VBD'), ('0', '-NONE-'), ('it', 'PRP'), ('will', 'MD'), ('eliminate', 'VB'), ('the', 'DT'), ('13', 'CD'), ('management', 'NN'), ('positions', 'NNS'), ('of', 'IN'), ('the', 'DT'), ('former', 'JJ'), ('Midwest', 'NNP'), ('Financial', 'NNP'), ('parent', 'NN'), ('company', 'NN'), ('.', '.')]\n",
            "\n",
            "Tasas de acierto de Unigramas: 86.28%\n",
            "['Kalamazoo', ',', 'Mich.-based', 'First', 'of', 'America', 'said', '0', 'it', 'will', 'eliminate', 'the', '13', 'management', 'positions', 'of', 'the', 'former', 'Midwest', 'Financial', 'parent', 'company', '.']\n",
            "[('Kalamazoo', None), (',', None), ('Mich.-based', None), ('First', None), ('of', None), ('America', None), ('said', None), ('0', None), ('it', None), ('will', None), ('eliminate', None), ('the', None), ('13', None), ('management', None), ('positions', None), ('of', None), ('the', None), ('former', None), ('Midwest', None), ('Financial', None), ('parent', None), ('company', None), ('.', None)]\n",
            "\n",
            "Tasas de acierto de Bigramas: 13.46%\n",
            "['Kalamazoo', ',', 'Mich.-based', 'First', 'of', 'America', 'said', '0', 'it', 'will', 'eliminate', 'the', '13', 'management', 'positions', 'of', 'the', 'former', 'Midwest', 'Financial', 'parent', 'company', '.']\n",
            "[('Kalamazoo', None), (',', None), ('Mich.-based', None), ('First', None), ('of', None), ('America', None), ('said', None), ('0', None), ('it', None), ('will', None), ('eliminate', None), ('the', None), ('13', None), ('management', None), ('positions', None), ('of', None), ('the', None), ('former', None), ('Midwest', None), ('Financial', None), ('parent', None), ('company', None), ('.', None)]\n",
            "\n",
            "Tasa de acierto de Trigramas: 7.93%\n"
          ]
        }
      ],
      "source": [
        "talla = int(len(treebank.tagged_sents()) * 0.9)\n",
        "train_sents = treebank.tagged_sents()[:talla]\n",
        "test_sents = treebank.tagged_sents()[talla:]\n",
        "\n",
        "unigram_tagger = UnigramTagger(train_sents)\n",
        "sent1=treebank.sents()[talla]\n",
        "print(sent1)\n",
        "print(unigram_tagger.tag(sent1))\n",
        "okBi = round(unigram_tagger.accuracy(test_sents) * 100, 2);\n",
        "print()\n",
        "print(\"Tasas de acierto de Unigramas: \" + str(okBi) + \"%\")\n",
        "\n",
        "bigram_tagger = BigramTagger(train_sents)\n",
        "sent1=treebank.sents()[talla]\n",
        "print(sent1)\n",
        "print(bigram_tagger.tag(sent1))\n",
        "\n",
        "okBi = round(bigram_tagger.accuracy(test_sents) * 100, 2)\n",
        "print()\n",
        "print(\"Tasas de acierto de Bigramas: \" + str(okBi) + \"%\")\n",
        "\n",
        "trigram_tagger = TrigramTagger(train_sents)\n",
        "sent1=treebank.sents()[talla]\n",
        "print(sent1)\n",
        "print(trigram_tagger.tag(sent1))\n",
        "\n",
        "okUni = round(trigram_tagger.accuracy(test_sents) * 100, 2)\n",
        "print()\n",
        "print(\"Tasa de acierto de Trigramas: \"+ str(okUni) + \"%\")"
      ]
    },
    {
      "cell_type": "code",
      "execution_count": 84,
      "metadata": {},
      "outputs": [
        {
          "name": "stdout",
          "output_type": "stream",
          "text": [
            "NN\n",
            "[('Kalamazoo', 'NN'), (',', 'NN'), ('Mich.-based', 'NN'), ('First', 'NN'), ('of', 'NN'), ('America', 'NN'), ('said', 'NN'), ('0', 'NN'), ('it', 'NN'), ('will', 'NN'), ('eliminate', 'NN'), ('the', 'NN'), ('13', 'NN'), ('management', 'NN'), ('positions', 'NN'), ('of', 'NN'), ('the', 'NN'), ('former', 'NN'), ('Midwest', 'NN'), ('Financial', 'NN'), ('parent', 'NN'), ('company', 'NN'), ('.', 'NN')]\n",
            "Tasas de acierto:\n",
            "Default Tagger: 14.7%\n"
          ]
        }
      ],
      "source": [
        "tags = [tag for (word, tag) in treebank.tagged_words()]\n",
        "masFTag = FreqDist(tags).max()\n",
        "print(masFTag)\n",
        "default_tagger = DefaultTagger(masFTag)\n",
        "print(default_tagger.tag(sent1))\n",
        "okDef = round(default_tagger.accuracy(test_sents) * 100, 2)\n",
        "print(\"Tasas de acierto:\")\n",
        "print(\"Default Tagger: \" + str(okDef) + \"%\")\n"
      ]
    },
    {
      "cell_type": "code",
      "execution_count": 85,
      "metadata": {},
      "outputs": [
        {
          "name": "stdout",
          "output_type": "stream",
          "text": [
            "Etiquetas originales. Tasa de acierto de Bigramas - backoff: 89.06 %\n",
            "Etiquetas originales. Tasa de acierto de Trigramas - backoff: 88.99 %\n",
            "Etiquetas originales. Tasa de acierto del modelo de Trigramas con tratamiento de afijos: 91.11 %\n"
          ]
        }
      ],
      "source": [
        "unigram_tagger = UnigramTagger(train_sents, backoff = default_tagger)\n",
        "bigram_tagger = BigramTagger(train_sents, backoff= unigram_tagger)\n",
        "backoff_tagger = TrigramTagger(train_sents, backoff= bigram_tagger)\n",
        "\n",
        "resultado = round(bigram_tagger.accuracy(test_sents) * 100, 2)\n",
        "print(\"Etiquetas originales. Tasa de acierto de Bigramas - backoff:\", resultado,\"%\")\n",
        "\n",
        "resultado = round(backoff_tagger.accuracy(test_sents) * 100, 2)\n",
        "print(\"Etiquetas originales. Tasa de acierto de Trigramas - backoff:\", resultado,\"%\")\n",
        "\n",
        "prefix_tag = AffixTagger(train_sents,affix_length=-1)\n",
        "accuracy = round(prefix_tag.accuracy(test_sents)*100,2)\n",
        "unigram_tagger = UnigramTagger(train_sents, backoff = prefix_tag)\n",
        "bigram_tagger = BigramTagger(train_sents, backoff= unigram_tagger)\n",
        "backoff_tagger = TrigramTagger(train_sents, backoff= bigram_tagger)\n",
        "okBiBO = round(backoff_tagger.accuracy(test_sents) * 100, 2)\n",
        "print(\"Etiquetas originales. Tasa de acierto del modelo de Trigramas con tratamiento de afijos:\", okBiBO,\"%\")"
      ]
    },
    {
      "cell_type": "markdown",
      "metadata": {
        "id": "_c4TPRZW5vkm"
      },
      "source": [
        "# Ejercicio 3: efectos del tamaño del corpus de entranamiento"
      ]
    },
    {
      "cell_type": "markdown",
      "metadata": {
        "id": "PsS7UXLT55sd"
      },
      "source": [
        "Los etiquetadores basados en sistemas de aprendizaje necesitan de un conjunto de datos de entrenamiento mínimo para aprender modelos que ofrezcan un desempeño aceptable. En esta tarea se trata de mostrar la evolución de la precisión de un etiquetador conforme aumenta el tamaño del corpus de entrenamiento.\n",
        "Para ello tenga en cuenta las siguientes consideraciones:\n",
        "- El corpus se dividirá en dos particiones: 90% para training y 10% para test (las mismas particiones utilizadas en ejercicios anteriores).\n",
        "- La partición de training se dividirá a su vez en 10 partes iguales.\n",
        "- Deberá realizar 10 iteraciones empezando con la partición de training 1, y sumando en cada una de ellas una partición al corpus de entrenamiento.\n",
        "- En cada iteración se entrenará y evaluará el etiquetador obteniendo la correspondiente precisión.\n",
        "- Finalmente se representará gráficamente la evolución de la precisión en cada iteración.\n",
        "\n"
      ]
    },
    {
      "cell_type": "markdown",
      "metadata": {
        "id": "KnDKDUvyVIog"
      },
      "source": [
        "3.1 Realice el experimento para el corpus treebank con el conjunto de etiquetas universal, utilizando el modelo de bigramas y de trigramas suavizados con backoff y Default Tagger."
      ]
    },
    {
      "cell_type": "code",
      "execution_count": 96,
      "metadata": {},
      "outputs": [
        {
          "name": "stdout",
          "output_type": "stream",
          "text": [
            "Partición 1: Bigramas - backoff: 87.61%\n",
            "Partición 1: Trigramas - backoff: 87.54%\n",
            "Partición 2: Bigramas - backoff: 89.82%\n",
            "Partición 2: Trigramas - backoff: 89.8%\n",
            "Partición 3: Bigramas - backoff: 90.62%\n",
            "Partición 3: Trigramas - backoff: 90.62%\n",
            "Partición 3: Bigramas - backoff: 90.62%\n",
            "Partición 3: Trigramas - backoff: 90.62%\n",
            "Partición 4: Bigramas - backoff: 91.58%\n",
            "Partición 4: Trigramas - backoff: 91.59%\n",
            "Partición 4: Bigramas - backoff: 91.58%\n",
            "Partición 4: Trigramas - backoff: 91.59%\n",
            "Partición 5: Bigramas - backoff: 92.08%\n",
            "Partición 5: Trigramas - backoff: 92.1%\n",
            "Partición 5: Bigramas - backoff: 92.08%\n",
            "Partición 5: Trigramas - backoff: 92.1%\n",
            "Partición 6: Bigramas - backoff: 92.59%\n",
            "Partición 6: Trigramas - backoff: 92.6%\n",
            "Partición 6: Bigramas - backoff: 92.59%\n",
            "Partición 6: Trigramas - backoff: 92.6%\n",
            "Partición 7: Bigramas - backoff: 93.23%\n",
            "Partición 7: Trigramas - backoff: 93.18%\n",
            "Partición 7: Bigramas - backoff: 93.23%\n",
            "Partición 7: Trigramas - backoff: 93.18%\n",
            "Partición 8: Bigramas - backoff: 93.32%\n",
            "Partición 8: Trigramas - backoff: 93.31%\n",
            "Partición 8: Bigramas - backoff: 93.32%\n",
            "Partición 8: Trigramas - backoff: 93.31%\n",
            "Partición 9: Bigramas - backoff: 93.61%\n",
            "Partición 9: Trigramas - backoff: 93.62%\n",
            "Partición 9: Bigramas - backoff: 93.61%\n",
            "Partición 9: Trigramas - backoff: 93.62%\n",
            "Partición 10: Bigramas - backoff: 93.97%\n",
            "Partición 10: Trigramas - backoff: 94.02%\n",
            "Partición 10: Bigramas - backoff: 93.97%\n",
            "Partición 10: Trigramas - backoff: 94.02%\n"
          ]
        }
      ],
      "source": [
        "sentences = list(treebank.tagged_sents(tagset='universal'))\n",
        "talla = int(len(sentences) * 0.9)\n",
        "train_sents = sentences[:talla]\n",
        "test_sents = sentences[talla:]\n",
        "\n",
        "# Dividir el train en 10 particiones iguales\n",
        "part_size = len(train_sents) // 10\n",
        "bigram_scores = []\n",
        "trigram_scores = []\n",
        "\n",
        "for i in range(1, 11):\n",
        "    current_train = train_sents[:i * part_size] if i < 10 else train_sents\n",
        "    # DefaultTagger con la etiqueta más frecuente\n",
        "    tags = [tag for sent in current_train for (_, tag) in sent]\n",
        "    masFTag = FreqDist(tags).max()\n",
        "    default_tagger = DefaultTagger(masFTag)\n",
        "    unigram_tagger = UnigramTagger(current_train, backoff=default_tagger)\n",
        "    bigram_tagger = BigramTagger(current_train, backoff=unigram_tagger)\n",
        "    trigram_tagger = TrigramTagger(current_train, backoff=bigram_tagger)\n",
        "\n",
        "    bigram_acc = round(bigram_tagger.accuracy(test_sents) * 100, 2)\n",
        "    trigram_acc = round(trigram_tagger.accuracy(test_sents) * 100, 2)\n",
        "    bigram_scores.append(bigram_acc)\n",
        "    trigram_scores.append(trigram_acc)\n",
        "    print(f\"Partición {i}: Bigramas - backoff: {bigram_acc}%\")\n",
        "    print(f\"Partición {i}: Trigramas - backoff: {trigram_acc}%\")"
      ]
    },
    {
      "cell_type": "markdown",
      "metadata": {
        "id": "xb28tu_yVpRW"
      },
      "source": [
        "3.2 Realice el mismo experimento con el juego de etiquetas original del corpus."
      ]
    },
    {
      "cell_type": "code",
      "execution_count": 97,
      "metadata": {},
      "outputs": [
        {
          "name": "stdout",
          "output_type": "stream",
          "text": [
            "Partición 1: Bigramas - backoff: 76.68%\n",
            "Partición 1: Trigramas - backoff: 76.65%\n",
            "Partición 2: Bigramas - backoff: 80.25%\n",
            "Partición 2: Trigramas - backoff: 80.15%\n",
            "Partición 3: Bigramas - backoff: 82.27%\n",
            "Partición 3: Trigramas - backoff: 82.24%\n",
            "Partición 2: Bigramas - backoff: 80.25%\n",
            "Partición 2: Trigramas - backoff: 80.15%\n",
            "Partición 3: Bigramas - backoff: 82.27%\n",
            "Partición 3: Trigramas - backoff: 82.24%\n",
            "Partición 4: Bigramas - backoff: 84.24%\n",
            "Partición 4: Trigramas - backoff: 84.19%\n",
            "Partición 4: Bigramas - backoff: 84.24%\n",
            "Partición 4: Trigramas - backoff: 84.19%\n",
            "Partición 5: Bigramas - backoff: 85.18%\n",
            "Partición 5: Trigramas - backoff: 85.08%\n",
            "Partición 5: Bigramas - backoff: 85.18%\n",
            "Partición 5: Trigramas - backoff: 85.08%\n",
            "Partición 6: Bigramas - backoff: 86.26%\n",
            "Partición 6: Trigramas - backoff: 86.14%\n",
            "Partición 6: Bigramas - backoff: 86.26%\n",
            "Partición 6: Trigramas - backoff: 86.14%\n",
            "Partición 7: Bigramas - backoff: 87.08%\n",
            "Partición 7: Trigramas - backoff: 86.97%\n",
            "Partición 7: Bigramas - backoff: 87.08%\n",
            "Partición 7: Trigramas - backoff: 86.97%\n",
            "Partición 8: Bigramas - backoff: 87.53%\n",
            "Partición 8: Trigramas - backoff: 87.41%\n",
            "Partición 8: Bigramas - backoff: 87.53%\n",
            "Partición 8: Trigramas - backoff: 87.41%\n",
            "Partición 9: Bigramas - backoff: 88.01%\n",
            "Partición 9: Trigramas - backoff: 87.92%\n",
            "Partición 9: Bigramas - backoff: 88.01%\n",
            "Partición 9: Trigramas - backoff: 87.92%\n",
            "Partición 10: Bigramas - backoff: 89.06%\n",
            "Partición 10: Trigramas - backoff: 88.99%\n",
            "Partición 10: Bigramas - backoff: 89.06%\n",
            "Partición 10: Trigramas - backoff: 88.99%\n"
          ]
        }
      ],
      "source": [
        "sentences = list(treebank.tagged_sents())\n",
        "talla = int(len(sentences) * 0.9)\n",
        "train_sents = sentences[:talla]\n",
        "test_sents = sentences[talla:]\n",
        "\n",
        "# Dividir el train en 10 particiones iguales\n",
        "part_size = len(train_sents) // 10\n",
        "bigram_scores_originales = []\n",
        "trigram_scores_originales = []\n",
        "\n",
        "for i in range(1, 11):\n",
        "    current_train = train_sents[:i * part_size] if i < 10 else train_sents\n",
        "    # DefaultTagger con la etiqueta más frecuente\n",
        "    tags = [tag for sent in current_train for (_, tag) in sent]\n",
        "    masFTag = FreqDist(tags).max()\n",
        "    default_tagger = DefaultTagger(masFTag)\n",
        "    unigram_tagger = UnigramTagger(current_train, backoff=default_tagger)\n",
        "    bigram_tagger = BigramTagger(current_train, backoff=unigram_tagger)\n",
        "    trigram_tagger = TrigramTagger(current_train, backoff=bigram_tagger)\n",
        "\n",
        "    bigram_acc = round(bigram_tagger.accuracy(test_sents) * 100, 2)\n",
        "    trigram_acc = round(trigram_tagger.accuracy(test_sents) * 100, 2)\n",
        "    bigram_scores_originales.append(bigram_acc)\n",
        "    trigram_scores_originales.append(trigram_acc)\n",
        "    print(f\"Partición {i}: Bigramas - backoff: {bigram_acc}%\")\n",
        "    print(f\"Partición {i}: Trigramas - backoff: {trigram_acc}%\")"
      ]
    },
    {
      "cell_type": "markdown",
      "metadata": {
        "id": "EqJnAma3V5cI"
      },
      "source": [
        "3.3 Represente gráficamente el resultado en una gráfica donde el eje x representa el número de oraciones de entrenamiento (talla) y el eje y la precisión del etiquetador.\n",
        "\n",
        "Para realizar una gráfica puede utilizar pyplot. En la red encontrará tutoriales de uso de la librería. Este es un ejemplo básico de uso:\n",
        "\n",
        "\n"
      ]
    },
    {
      "cell_type": "code",
      "execution_count": 103,
      "metadata": {},
      "outputs": [
        {
          "data": {
            "image/png": "[encoded data removed]",
            "text/plain": [
              "<Figure size 640x480 with 1 Axes>"
            ]
          },
          "metadata": {},
          "output_type": "display_data"
        }
      ],
      "source": [
        "oraciones = [i * part_size for i in range(1, 11)]\n",
        "plt.plot(oraciones, trigram_scores, marker='o', label='Trigramas - backoff (universal)')\n",
        "plt.plot(oraciones, trigram_scores_originales, marker='o', label='Trigramas - backoff (original)')\n",
        "plt.xlabel('Oraciones de entrenamiento')\n",
        "plt.ylabel('Tasa de acierto (%)')\n",
        "plt.legend()\n",
        "plt.show()"
      ]
    }
  ],
  "metadata": {
    "colab": {
      "provenance": []
    },
    "kernelspec": {
      "display_name": "Python 3",
      "language": "python",
      "name": "python3"
    },
    "language_info": {
      "codemirror_mode": {
        "name": "ipython",
        "version": 3
      },
      "file_extension": ".py",
      "mimetype": "text/x-python",
      "name": "python",
      "nbconvert_exporter": "python",
      "pygments_lexer": "ipython3",
      "version": "3.11.9"
    }
  },
  "nbformat": 4,
  "nbformat_minor": 0
}
