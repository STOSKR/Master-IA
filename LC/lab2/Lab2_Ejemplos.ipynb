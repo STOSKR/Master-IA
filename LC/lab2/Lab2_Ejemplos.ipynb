{
  "cells": [
    {
      "cell_type": "markdown",
      "metadata": {
        "id": "vYIs0myJTOog"
      },
      "source": [
        "## <h1 align=\"center\"> Lingüística Computacional - MIARFID</h1>\n",
        "## <h1 align=\"center\"> Laboratorio 2 - Etiquetado de secuencias</h1>"
      ]
    },
    {
      "cell_type": "markdown",
      "metadata": {
        "id": "avte-rP8yRfW"
      },
      "source": [
        "# Ejemplo 1: accediendo a un corpus"
      ]
    },
    {
      "cell_type": "code",
      "execution_count": 1,
      "metadata": {
        "colab": {
          "base_uri": "https://localhost:8080/"
        },
        "id": "H5P6ccGHw6vN",
        "outputId": "f12e39c0-d6ca-4c10-c566-c984d22c0fed"
      },
      "outputs": [
        {
          "name": "stderr",
          "output_type": "stream",
          "text": [
            "[nltk_data] Downloading package cess_esp to\n",
            "[nltk_data]     C:\\Users\\shiyi\\AppData\\Roaming\\nltk_data...\n",
            "[nltk_data]   Unzipping corpora\\cess_esp.zip.\n"
          ]
        }
      ],
      "source": [
        "import nltk\n",
        "nltk.download('cess_esp')\n",
        "from nltk.corpus import cess_esp\n",
        "\n"
      ]
    },
    {
      "cell_type": "code",
      "execution_count": 2,
      "metadata": {
        "colab": {
          "base_uri": "https://localhost:8080/"
        },
        "id": "VEG-mH_k8RUK",
        "outputId": "8cb70a24-5aa6-4349-b145-760609e7ddc3"
      },
      "outputs": [
        {
          "name": "stdout",
          "output_type": "stream",
          "text": [
            "Texto parentizado:\n",
            "\n",
            "(\n",
            "  (S\n",
            "    (sn-SUJ\n",
            "      (espec.ms\n",
            "        (da0ms0 El el))\n",
            "      (grup.nom.ms\n",
            "        (ncms000 grupo grupo)\n",
            "        (s.a.ms\n",
            "          (grup.a.ms\n",
            "            (aq0cs0 estatal estatal)))\n",
            "        (sn\n",
            "          (grup.nom.ms\n",
            "            (np00000 Electricité_de_France Electricité_de_France)\n",
            "            (s\n"
          ]
        }
      ],
      "source": [
        "print(\"Texto parentizado:\") #texto plano con el formato parentizado de Penn TreeBank (S (SN (DT The) (NC boy)) (VP (VMI sings)))\n",
        "print(cess_esp.raw()[:300])\n"
      ]
    },
    {
      "cell_type": "code",
      "execution_count": 3,
      "metadata": {
        "colab": {
          "base_uri": "https://localhost:8080/"
        },
        "id": "egM1tt8e9OET",
        "outputId": "2221f059-5d96-4f54-a303-a99904d0de76"
      },
      "outputs": [
        {
          "name": "stdout",
          "output_type": "stream",
          "text": [
            "\n",
            "Oración sin etiquetar\n",
            "['El', 'grupo', 'estatal', 'Electricité_de_France', '-Fpa-', 'EDF', '-Fpt-', 'anunció', 'hoy', ',', 'jueves', ',', 'la', 'compra', 'del', '51_por_ciento', 'de', 'la', 'empresa', 'mexicana', 'Electricidad_Águila_de_Altamira', '-Fpa-', 'EAA', '-Fpt-', ',', 'creada', 'por', 'el', 'japonés', 'Mitsubishi_Corporation', 'para', 'poner_en_marcha', 'una', 'central', 'de', 'gas', 'de', '495', 'megavatios', '.']\n",
            "['Una', 'portavoz', 'de', 'EDF', 'explicó', 'a', 'EFE', 'que', 'el', 'proyecto', 'para', 'la', 'construcción', 'de', 'Altamira_2', ',', 'al', 'norte', 'de', 'Tampico', ',', 'prevé', 'la', 'utilización', 'de', 'gas', 'natural', 'como', 'combustible', 'principal', 'en', 'una', 'central', 'de', 'ciclo', 'combinado', 'que', 'debe', 'empezar', 'a', 'funcionar', 'en', 'mayo_del_2002', '.']\n",
            "['La', 'electricidad', 'producida', 'pasará', 'a', 'la', 'red', 'eléctrica', 'pública', 'de', 'México', 'en_virtud_de', 'un', 'acuerdo', 'de', 'venta', 'de', 'energía', 'de', 'EAA', 'con', 'la', 'Comisión_Federal_de_Electricidad', '-Fpa-', 'CFE', '-Fpt-', 'por', 'una', 'duración', 'de', '25', 'años', '.']\n"
          ]
        }
      ],
      "source": [
        "print(\"\\nOración sin etiquetar\") # oraciones del corpus sin etiquetas, sólo palabras\n",
        "for s in cess_esp.sents()[0:3]:\n",
        "  print(s)\n"
      ]
    },
    {
      "cell_type": "code",
      "execution_count": 4,
      "metadata": {
        "colab": {
          "base_uri": "https://localhost:8080/"
        },
        "id": "6c5uQ-xa9XEy",
        "outputId": "e03a2b85-a271-430c-d0cd-4d34664d4e26"
      },
      "outputs": [
        {
          "name": "stdout",
          "output_type": "stream",
          "text": [
            "\n",
            "Oración etiquetada\n",
            "[('El', 'da0ms0'), ('grupo', 'ncms000'), ('estatal', 'aq0cs0'), ('Electricité_de_France', 'np00000'), ('-Fpa-', 'Fpa'), ('EDF', 'np00000'), ('-Fpt-', 'Fpt'), ('anunció', 'vmis3s0'), ('hoy', 'rg'), (',', 'Fc'), ('jueves', 'W'), (',', 'Fc'), ('la', 'da0fs0'), ('compra', 'ncfs000'), ('del', 'spcms'), ('51_por_ciento', 'Zp'), ('de', 'sps00'), ('la', 'da0fs0'), ('empresa', 'ncfs000'), ('mexicana', 'aq0fs0'), ('Electricidad_Águila_de_Altamira', 'np00000'), ('-Fpa-', 'Fpa'), ('EAA', 'np00000'), ('-Fpt-', 'Fpt'), (',', 'Fc'), ('creada', 'aq0fsp'), ('por', 'sps00'), ('el', 'da0ms0'), ('japonés', 'aq0ms0'), ('Mitsubishi_Corporation', 'np00000'), ('para', 'sps00'), ('poner_en_marcha', 'vmn0000'), ('una', 'di0fs0'), ('central', 'ncfs000'), ('de', 'sps00'), ('gas', 'ncms000'), ('de', 'sps00'), ('495', 'Z'), ('megavatios', 'ncmp000'), ('.', 'Fp')]\n",
            "[('Una', 'di0fs0'), ('portavoz', 'nccs000'), ('de', 'sps00'), ('EDF', 'np00000'), ('explicó', 'vmis3s0'), ('a', 'sps00'), ('EFE', 'np00000'), ('que', 'cs'), ('el', 'da0ms0'), ('proyecto', 'ncms000'), ('para', 'sps00'), ('la', 'da0fs0'), ('construcción', 'ncfs000'), ('de', 'sps00'), ('Altamira_2', 'np00000'), (',', 'Fc'), ('al', 'spcms'), ('norte', 'ncms000'), ('de', 'sps00'), ('Tampico', 'np00000'), (',', 'Fc'), ('prevé', 'vmm02s0'), ('la', 'da0fs0'), ('utilización', 'ncfs000'), ('de', 'sps00'), ('gas', 'ncms000'), ('natural', 'aq0cs0'), ('como', 'cs'), ('combustible', 'ncms000'), ('principal', 'aq0cs0'), ('en', 'sps00'), ('una', 'di0fs0'), ('central', 'ncfs000'), ('de', 'sps00'), ('ciclo', 'ncms000'), ('combinado', 'aq0msp'), ('que', 'pr0cn000'), ('debe', 'vmip3s0'), ('empezar', 'vmn0000'), ('a', 'sps00'), ('funcionar', 'vmn0000'), ('en', 'sps00'), ('mayo_del_2002', 'W'), ('.', 'Fp')]\n",
            "[('La', 'da0fs0'), ('electricidad', 'ncfs000'), ('producida', 'aq0fsp'), ('pasará', 'vmif3s0'), ('a', 'sps00'), ('la', 'da0fs0'), ('red', 'ncfs000'), ('eléctrica', 'aq0fs0'), ('pública', 'aq0fs0'), ('de', 'sps00'), ('México', 'np00000'), ('en_virtud_de', 'sps00'), ('un', 'di0ms0'), ('acuerdo', 'ncms000'), ('de', 'sps00'), ('venta', 'ncfs000'), ('de', 'sps00'), ('energía', 'ncfs000'), ('de', 'sps00'), ('EAA', 'np00000'), ('con', 'sps00'), ('la', 'da0fs0'), ('Comisión_Federal_de_Electricidad', 'np00000'), ('-Fpa-', 'Fpa'), ('CFE', 'np00000'), ('-Fpt-', 'Fpt'), ('por', 'sps00'), ('una', 'di0fs0'), ('duración', 'ncfs000'), ('de', 'sps00'), ('25', 'Z'), ('años', 'ncmp000'), ('.', 'Fp')]\n"
          ]
        }
      ],
      "source": [
        "print(\"\\nOración etiquetada\") # oraciones del corpus con etiquetas gramaticales\n",
        "for s in cess_esp.tagged_sents()[0:3]:\n",
        "  print(s)"
      ]
    },
    {
      "cell_type": "code",
      "execution_count": 5,
      "metadata": {
        "colab": {
          "base_uri": "https://localhost:8080/"
        },
        "id": "NBNmwK2J9iVh",
        "outputId": "c698e876-aff6-478b-8b69-343d0495e0ec"
      },
      "outputs": [
        {
          "name": "stdout",
          "output_type": "stream",
          "text": [
            "\n",
            "Palabra etiquetada\n",
            "[('El', 'da0ms0'), ('grupo', 'ncms000'), ('estatal', 'aq0cs0')]\n"
          ]
        }
      ],
      "source": [
        "print(\"\\nPalabra etiquetada\") # palabras del corpus etiquetadas: pares (palabra, etiqueta)\n",
        "print(cess_esp.tagged_words()[0:3])"
      ]
    },
    {
      "cell_type": "code",
      "execution_count": 6,
      "metadata": {
        "colab": {
          "base_uri": "https://localhost:8080/"
        },
        "id": "MjW3XDZ59v04",
        "outputId": "46e70e1e-4367-4e0b-ce94-fd1b4747be7a"
      },
      "outputs": [
        {
          "name": "stdout",
          "output_type": "stream",
          "text": [
            "\n",
            "La palabra El está etiquetada con la etiqueta da0ms0\n",
            "\n",
            "La palabra grupo está etiquetada con la etiqueta ncms000\n",
            "\n",
            "La palabra estatal está etiquetada con la etiqueta aq0cs0\n"
          ]
        }
      ],
      "source": [
        "# si queremos acceder a las etiquetas:\n",
        "for (w,t) in cess_esp.tagged_words()[0:3]:\n",
        "  print(\"\\nLa palabra {p1} está etiquetada con la etiqueta {p2}\".format(p1=w,p2=t))"
      ]
    },
    {
      "cell_type": "markdown",
      "metadata": {
        "id": "SeWApwdJzJuZ"
      },
      "source": [
        "# Ejemplo 2: Juegos de etiquetas"
      ]
    },
    {
      "cell_type": "code",
      "execution_count": 7,
      "metadata": {
        "colab": {
          "base_uri": "https://localhost:8080/"
        },
        "collapsed": true,
        "id": "AlSq-L6opwR2",
        "outputId": "a517db93-ef6c-4dd8-c475-b86dca81c689"
      },
      "outputs": [
        {
          "name": "stderr",
          "output_type": "stream",
          "text": [
            "[nltk_data] Downloading package treebank to\n",
            "[nltk_data]     C:\\Users\\shiyi\\AppData\\Roaming\\nltk_data...\n",
            "[nltk_data]   Unzipping corpora\\treebank.zip.\n",
            "[nltk_data] Downloading package brown to\n",
            "[nltk_data]     C:\\Users\\shiyi\\AppData\\Roaming\\nltk_data...\n",
            "[nltk_data]   Unzipping corpora\\brown.zip.\n",
            "[nltk_data] Downloading package universal_tagset to\n",
            "[nltk_data]     C:\\Users\\shiyi\\AppData\\Roaming\\nltk_data...\n",
            "[nltk_data]   Unzipping taggers\\universal_tagset.zip.\n",
            "[nltk_data] Downloading package tagsets to\n",
            "[nltk_data]     C:\\Users\\shiyi\\AppData\\Roaming\\nltk_data...\n",
            "[nltk_data]   Unzipping help\\tagsets.zip.\n",
            "[nltk_data] Downloading package tagsets_json to\n",
            "[nltk_data]     C:\\Users\\shiyi\\AppData\\Roaming\\nltk_data...\n"
          ]
        },
        {
          "name": "stdout",
          "output_type": "stream",
          "text": [
            "$: dollar\n",
            "    $ -$ --$ A$ C$ HK$ M$ NZ$ S$ U.S.$ US$\n",
            "'': closing quotation mark\n",
            "    ' ''\n",
            "(: opening parenthesis\n",
            "    ( [ {\n",
            "): closing parenthesis\n",
            "    ) ] }\n",
            ",: comma\n",
            "    ,\n",
            "--: dash\n",
            "    --\n",
            ".: sentence terminator\n",
            "    . ! ?\n",
            ":: colon or ellipsis\n",
            "    : ; ...\n",
            "CC: conjunction, coordinating\n",
            "    & 'n and both but either et for less minus neither nor or plus so\n",
            "    therefore times v. versus vs. whether yet\n",
            "CD: numeral, cardinal\n",
            "    mid-1890 nine-thirty forty-two one-tenth ten million 0.5 one forty-\n",
            "    seven 1987 twenty '79 zero two 78-degrees eighty-four IX '60s .025\n",
            "    fifteen 271,124 dozen quintillion DM2,000 ...\n",
            "DT: determiner\n",
            "    all an another any both del each either every half la many much nary\n",
            "    neither no some such that the them these this those\n",
            "EX: existential there\n",
            "    there\n",
            "FW: foreign word\n",
            "    gemeinschaft hund ich jeux habeas Haementeria Herr K'ang-si vous\n",
            "    lutihaw alai je jour objets salutaris fille quibusdam pas trop Monte\n",
            "    terram fiche oui corporis ...\n",
            "IN: preposition or conjunction, subordinating\n",
            "    astride among uppon whether out inside pro despite on by throughout\n",
            "    below within for towards near behind atop around if like until below\n",
            "    next into if beside ...\n",
            "JJ: adjective or numeral, ordinal\n",
            "    third ill-mannered pre-war regrettable oiled calamitous first separable\n",
            "    ectoplasmic battery-powered participatory fourth still-to-be-named\n",
            "    multilingual multi-disciplinary ...\n",
            "JJR: adjective, comparative\n",
            "    bleaker braver breezier briefer brighter brisker broader bumper busier\n",
            "    calmer cheaper choosier cleaner clearer closer colder commoner costlier\n",
            "    cozier creamier crunchier cuter ...\n",
            "JJS: adjective, superlative\n",
            "    calmest cheapest choicest classiest cleanest clearest closest commonest\n",
            "    corniest costliest crassest creepiest crudest cutest darkest deadliest\n",
            "    dearest deepest densest dinkiest ...\n",
            "LS: list item marker\n",
            "    A A. B B. C C. D E F First G H I J K One SP-44001 SP-44002 SP-44005\n",
            "    SP-44007 Second Third Three Two * a b c d first five four one six three\n",
            "    two\n",
            "MD: modal auxiliary\n",
            "    can cannot could couldn't dare may might must need ought shall should\n",
            "    shouldn't will would\n",
            "NN: noun, common, singular or mass\n",
            "    common-carrier cabbage knuckle-duster Casino afghan shed thermostat\n",
            "    investment slide humour falloff slick wind hyena override subhumanity\n",
            "    machinist ...\n",
            "NNP: noun, proper, singular\n",
            "    Motown Venneboerger Czestochwa Ranzer Conchita Trumplane Christos\n",
            "    Oceanside Escobar Kreisler Sawyer Cougar Yvette Ervin ODI Darryl CTCA\n",
            "    Shannon A.K.C. Meltex Liverpool ...\n",
            "NNPS: noun, proper, plural\n",
            "    Americans Americas Amharas Amityvilles Amusements Anarcho-Syndicalists\n",
            "    Andalusians Andes Andruses Angels Animals Anthony Antilles Antiques\n",
            "    Apache Apaches Apocrypha ...\n",
            "NNS: noun, common, plural\n",
            "    undergraduates scotches bric-a-brac products bodyguards facets coasts\n",
            "    divestitures storehouses designs clubs fragrances averages\n",
            "    subjectivists apprehensions muses factory-jobs ...\n",
            "PDT: pre-determiner\n",
            "    all both half many quite such sure this\n",
            "POS: genitive marker\n",
            "    ' 's\n",
            "PRP: pronoun, personal\n",
            "    hers herself him himself hisself it itself me myself one oneself ours\n",
            "    ourselves ownself self she thee theirs them themselves they thou thy us\n",
            "PRP$: pronoun, possessive\n",
            "    her his mine my our ours their thy your\n",
            "RB: adverb\n",
            "    occasionally unabatingly maddeningly adventurously professedly\n",
            "    stirringly prominently technologically magisterially predominately\n",
            "    swiftly fiscally pitilessly ...\n",
            "RBR: adverb, comparative\n",
            "    further gloomier grander graver greater grimmer harder harsher\n",
            "    healthier heavier higher however larger later leaner lengthier less-\n",
            "    perfectly lesser lonelier longer louder lower more ...\n",
            "RBS: adverb, superlative\n",
            "    best biggest bluntest earliest farthest first furthest hardest\n",
            "    heartiest highest largest least less most nearest second tightest worst\n",
            "RP: particle\n",
            "    aboard about across along apart around aside at away back before behind\n",
            "    by crop down ever fast for forth from go high i.e. in into just later\n",
            "    low more off on open out over per pie raising start teeth that through\n",
            "    under unto up up-pp upon whole with you\n",
            "SYM: symbol\n",
            "    % & ' '' ''. ) ). * + ,. < = > @ A[fj] U.S U.S.S.R * ** ***\n",
            "TO: \"to\" as preposition or infinitive marker\n",
            "    to\n",
            "UH: interjection\n",
            "    Goodbye Goody Gosh Wow Jeepers Jee-sus Hubba Hey Kee-reist Oops amen\n",
            "    huh howdy uh dammit whammo shucks heck anyways whodunnit honey golly\n",
            "    man baby diddle hush sonuvabitch ...\n",
            "VB: verb, base form\n",
            "    ask assemble assess assign assume atone attention avoid bake balkanize\n",
            "    bank begin behold believe bend benefit bevel beware bless boil bomb\n",
            "    boost brace break bring broil brush build ...\n",
            "VBD: verb, past tense\n",
            "    dipped pleaded swiped regummed soaked tidied convened halted registered\n",
            "    cushioned exacted snubbed strode aimed adopted belied figgered\n",
            "    speculated wore appreciated contemplated ...\n",
            "VBG: verb, present participle or gerund\n",
            "    telegraphing stirring focusing angering judging stalling lactating\n",
            "    hankerin' alleging veering capping approaching traveling besieging\n",
            "    encrypting interrupting erasing wincing ...\n",
            "VBN: verb, past participle\n",
            "    multihulled dilapidated aerosolized chaired languished panelized used\n",
            "    experimented flourished imitated reunifed factored condensed sheared\n",
            "    unsettled primed dubbed desired ...\n",
            "VBP: verb, present tense, not 3rd person singular\n",
            "    predominate wrap resort sue twist spill cure lengthen brush terminate\n",
            "    appear tend stray glisten obtain comprise detest tease attract\n",
            "    emphasize mold postpone sever return wag ...\n",
            "VBZ: verb, present tense, 3rd person singular\n",
            "    bases reconstructs marks mixes displeases seals carps weaves snatches\n",
            "    slumps stretches authorizes smolders pictures emerges stockpiles\n",
            "    seduces fizzes uses bolsters slaps speaks pleads ...\n",
            "WDT: WH-determiner\n",
            "    that what whatever which whichever\n",
            "WP: WH-pronoun\n",
            "    that what whatever whatsoever which who whom whosoever\n",
            "WP$: WH-pronoun, possessive\n",
            "    whose\n",
            "WRB: Wh-adverb\n",
            "    how however whence whenever where whereby whereever wherein whereof why\n",
            "``: opening quotation mark\n",
            "    ` ``\n"
          ]
        },
        {
          "name": "stderr",
          "output_type": "stream",
          "text": [
            "[nltk_data]   Unzipping help\\tagsets_json.zip.\n"
          ]
        }
      ],
      "source": [
        "nltk.download('treebank')\n",
        "nltk.download('brown')\n",
        "nltk.download('universal_tagset')\n",
        "nltk.download('tagsets')\n",
        "nltk.download('tagsets_json')\n",
        "\n",
        "nltk.help.upenn_tagset() # descripción de las etiquetas del corpus Penn Treebank"
      ]
    },
    {
      "cell_type": "code",
      "execution_count": 8,
      "metadata": {
        "colab": {
          "base_uri": "https://localhost:8080/"
        },
        "collapsed": true,
        "id": "DPT6Rxp5EeTH",
        "outputId": "5252585a-3569-4c07-ea6b-9e940d2f9d44"
      },
      "outputs": [
        {
          "name": "stdout",
          "output_type": "stream",
          "text": [
            "Descripción de las etiquetas:  NN*  del corpus Brown\n",
            "\n",
            "NN: noun, singular, common\n",
            "    failure burden court fire appointment awarding compensation Mayor\n",
            "    interim committee fact effect airport management surveillance jail\n",
            "    doctor intern extern night weekend duty legislation Tax Office ...\n",
            "NN$: noun, singular, common, genitive\n",
            "    season's world's player's night's chapter's golf's football's\n",
            "    baseball's club's U.'s coach's bride's bridegroom's board's county's\n",
            "    firm's company's superintendent's mob's Navy's ...\n",
            "NN+BEZ: noun, singular, common + verb 'to be', present tense, 3rd person singular\n",
            "    water's camera's sky's kid's Pa's heat's throat's father's money's\n",
            "    undersecretary's granite's level's wife's fat's Knife's fire's name's\n",
            "    hell's leg's sun's roulette's cane's guy's kind's baseball's ...\n",
            "NN+HVD: noun, singular, common + verb 'to have', past tense\n",
            "    Pa'd\n",
            "NN+HVZ: noun, singular, common + verb 'to have', present tense, 3rd person singular\n",
            "    guy's Knife's boat's summer's rain's company's\n",
            "NN+IN: noun, singular, common + preposition\n",
            "    buncha\n",
            "NN+MD: noun, singular, common + modal auxillary\n",
            "    cowhand'd sun'll\n",
            "NN+NN: noun, singular, common, hyphenated pair\n",
            "    stomach-belly\n",
            "NNS: noun, plural, common\n",
            "    irregularities presentments thanks reports voters laws legislators\n",
            "    years areas adjustments chambers $100 bonds courts sales details raises\n",
            "    sessions members congressmen votes polls calls ...\n",
            "NNS$: noun, plural, common, genitive\n",
            "    taxpayers' children's members' States' women's cutters' motorists'\n",
            "    steelmakers' hours' Nations' lawyers' prisoners' architects' tourists'\n",
            "    Employers' secretaries' Rogues' ...\n",
            "NNS+MD: noun, plural, common + modal auxillary\n",
            "    duds'd oystchers'll\n",
            "NP: noun, singular, proper\n",
            "    Fulton Atlanta September-October Durwood Pye Ivan Allen Jr. Jan.\n",
            "    Alpharetta Grady William B. Hartsfield Pearl Williams Aug. Berry J. M.\n",
            "    Cheshire Griffin Opelika Ala. E. Pelham Snodgrass ...\n",
            "NP$: noun, singular, proper, genitive\n",
            "    Green's Landis' Smith's Carreon's Allison's Boston's Spahn's Willie's\n",
            "    Mickey's Milwaukee's Mays' Howsam's Mantle's Shaw's Wagner's Rickey's\n",
            "    Shea's Palmer's Arnold's Broglio's ...\n",
            "NP+BEZ: noun, singular, proper + verb 'to be', present tense, 3rd person singular\n",
            "    W.'s Ike's Mack's Jack's Kate's Katharine's Black's Arthur's Seaton's\n",
            "    Buckhorn's Breed's Penny's Rob's Kitty's Blackwell's Myra's Wally's\n",
            "    Lucille's Springfield's Arlene's\n",
            "NP+HVZ: noun, singular, proper + verb 'to have', present tense, 3rd person singular\n",
            "    Bill's Guardino's Celie's Skolman's Crosson's Tim's Wally's\n",
            "NP+MD: noun, singular, proper + modal auxillary\n",
            "    Gyp'll John'll\n",
            "NPS: noun, plural, proper\n",
            "    Chases Aderholds Chapelles Armisteads Lockies Carbones French Marskmen\n",
            "    Toppers Franciscans Romans Cadillacs Masons Blacks Catholics British\n",
            "    Dixiecrats Mississippians Congresses ...\n",
            "NPS$: noun, plural, proper, genitive\n",
            "    Republicans' Orioles' Birds' Yanks' Redbirds' Bucs' Yankees' Stevenses'\n",
            "    Geraghtys' Burkes' Wackers' Achaeans' Dresbachs' Russians' Democrats'\n",
            "    Gershwins' Adventists' Negroes' Catholics' ...\n",
            "NR: noun, singular, adverbial\n",
            "    Friday home Wednesday Tuesday Monday Sunday Thursday yesterday tomorrow\n",
            "    tonight West East Saturday west left east downtown north northeast\n",
            "    southeast northwest North South right ...\n",
            "NR$: noun, singular, adverbial, genitive\n",
            "    Saturday's Monday's yesterday's tonight's tomorrow's Sunday's\n",
            "    Wednesday's Friday's today's Tuesday's West's Today's South's\n",
            "NR+MD: noun, singular, adverbial + modal auxillary\n",
            "    today'll\n",
            "NRS: noun, plural, adverbial\n",
            "    Sundays Mondays Saturdays Wednesdays Souths Fridays\n"
          ]
        }
      ],
      "source": [
        "etiqueta='NN*'\n",
        "print(\"Descripción de las etiquetas: \", etiqueta, ' del corpus Brown\\n')\n",
        "nltk.help.brown_tagset(etiqueta) # descripción de las etiquetas del corpus Brown"
      ]
    },
    {
      "cell_type": "code",
      "execution_count": 9,
      "metadata": {
        "colab": {
          "base_uri": "https://localhost:8080/"
        },
        "id": "3QNshskWdMOF",
        "outputId": "41275ccb-a121-452e-debb-1534d2f239c7"
      },
      "outputs": [
        {
          "name": "stdout",
          "output_type": "stream",
          "text": [
            "Juego de etiquetas propio del corpus\n",
            "Trebank: [('Pierre', 'NNP'), ('Vinken', 'NNP'), (',', ','), ('61', 'CD'), ('years', 'NNS'), ('old', 'JJ'), (',', ','), ('will', 'MD'), ('join', 'VB'), ('the', 'DT'), ('board', 'NN'), ('as', 'IN'), ('a', 'DT'), ('nonexecutive', 'JJ'), ('director', 'NN'), ('Nov.', 'NNP'), ('29', 'CD'), ('.', '.')] \n",
            "\n",
            "Brown: [('The', 'AT'), ('Fulton', 'NP-TL'), ('County', 'NN-TL'), ('Grand', 'JJ-TL'), ('Jury', 'NN-TL'), ('said', 'VBD'), ('Friday', 'NR'), ('an', 'AT'), ('investigation', 'NN'), ('of', 'IN'), (\"Atlanta's\", 'NP$'), ('recent', 'JJ'), ('primary', 'NN'), ('election', 'NN'), ('produced', 'VBD'), ('``', '``'), ('no', 'AT'), ('evidence', 'NN'), (\"''\", \"''\"), ('that', 'CS'), ('any', 'DTI'), ('irregularities', 'NNS'), ('took', 'VBD'), ('place', 'NN'), ('.', '.')] \n",
            "\n",
            "\n",
            "Juego de etiquetas universal\n",
            "Trebank: [('Pierre', 'NOUN'), ('Vinken', 'NOUN'), (',', '.'), ('61', 'NUM'), ('years', 'NOUN'), ('old', 'ADJ'), (',', '.'), ('will', 'VERB'), ('join', 'VERB'), ('the', 'DET'), ('board', 'NOUN'), ('as', 'ADP'), ('a', 'DET'), ('nonexecutive', 'ADJ'), ('director', 'NOUN'), ('Nov.', 'NOUN'), ('29', 'NUM'), ('.', '.')] \n",
            "\n",
            "Brown: [('The', 'DET'), ('Fulton', 'NOUN'), ('County', 'NOUN'), ('Grand', 'ADJ'), ('Jury', 'NOUN'), ('said', 'VERB'), ('Friday', 'NOUN'), ('an', 'DET'), ('investigation', 'NOUN'), ('of', 'ADP'), (\"Atlanta's\", 'NOUN'), ('recent', 'ADJ'), ('primary', 'NOUN'), ('election', 'NOUN'), ('produced', 'VERB'), ('``', '.'), ('no', 'DET'), ('evidence', 'NOUN'), (\"''\", '.'), ('that', 'ADP'), ('any', 'DET'), ('irregularities', 'NOUN'), ('took', 'VERB'), ('place', 'NOUN'), ('.', '.')] \n",
            "\n"
          ]
        }
      ],
      "source": [
        "from nltk.corpus import treebank, brown\n",
        "print(\"Juego de etiquetas propio del corpus\")\n",
        "print(\"Trebank: \", end=''); print(treebank.tagged_sents()[0],'\\n')\n",
        "print(\"Brown: \", end=''); print(brown.tagged_sents()[0],'\\n')\n",
        "print(\"\\nJuego de etiquetas universal\")\n",
        "print(\"Trebank: \", end=''); print(treebank.tagged_sents(tagset='universal')[0],'\\n')\n",
        "print(\"Brown: \", end=''); print(brown.tagged_sents(tagset='universal')[0],'\\n')\n"
      ]
    },
    {
      "cell_type": "markdown",
      "metadata": {
        "id": "X1GGIcGU1IWv"
      },
      "source": [
        "# Ejemplo 3: Utilizar el etiquetador de NLTK: etiquetar y evaluar"
      ]
    },
    {
      "cell_type": "code",
      "execution_count": 10,
      "metadata": {
        "colab": {
          "base_uri": "https://localhost:8080/"
        },
        "id": "lkzeNg29HJ5m",
        "outputId": "5e4ff23a-9d62-4586-babb-de3aedc2db28"
      },
      "outputs": [
        {
          "name": "stderr",
          "output_type": "stream",
          "text": [
            "[nltk_data] Downloading package punkt_tab to\n",
            "[nltk_data]     C:\\Users\\shiyi\\AppData\\Roaming\\nltk_data...\n",
            "[nltk_data]   Package punkt_tab is already up-to-date!\n",
            "[nltk_data] Downloading package averaged_perceptron_tagger_eng to\n",
            "[nltk_data]     C:\\Users\\shiyi\\AppData\\Roaming\\nltk_data...\n",
            "[nltk_data]   Unzipping taggers\\averaged_perceptron_tagger_eng.zip.\n"
          ]
        },
        {
          "data": {
            "text/plain": [
              "True"
            ]
          },
          "execution_count": 10,
          "metadata": {},
          "output_type": "execute_result"
        }
      ],
      "source": [
        "nltk.download('punkt_tab')\n",
        "nltk.download('averaged_perceptron_tagger_eng') #Es un POS tagger para el inglés. Otro incluido en NLTK es maxent_treebank_pos_tagger"
      ]
    },
    {
      "cell_type": "code",
      "execution_count": 11,
      "metadata": {
        "colab": {
          "base_uri": "https://localhost:8080/"
        },
        "id": "fzIcl2w7u5l_",
        "outputId": "cb086fe7-462d-4d21-db3b-ffb4e6f7f08c"
      },
      "outputs": [
        {
          "name": "stdout",
          "output_type": "stream",
          "text": [
            "Texto etiquetado con el juego de etiquetas original:  [('They', 'PRP'), ('refuse', 'VBP'), ('to', 'TO'), ('permit', 'VB'), ('us', 'PRP'), ('to', 'TO'), ('obtain', 'VB'), ('the', 'DT'), ('refuse', 'NN'), ('permit', 'NN'), ('.', '.')]\n",
            "Texto etiquetado con el juego de etiquetas universal:  [('They', 'PRON'), ('refuse', 'VERB'), ('to', 'PRT'), ('permit', 'VERB'), ('us', 'PRON'), ('to', 'PRT'), ('obtain', 'VERB'), ('the', 'DET'), ('refuse', 'NOUN'), ('permit', 'NOUN'), ('.', '.')]\n"
          ]
        }
      ],
      "source": [
        "from nltk import word_tokenize\n",
        "text = word_tokenize(\"They refuse to permit us to obtain the refuse permit.\")\n",
        "\n",
        "print(\"Texto etiquetado con el juego de etiquetas original: \", nltk.pos_tag(text))\n",
        "print(\"Texto etiquetado con el juego de etiquetas universal: \", nltk.pos_tag(text,tagset='universal'))\n"
      ]
    },
    {
      "cell_type": "markdown",
      "metadata": {
        "id": "-Nnsbxeq2JlF"
      },
      "source": [
        "### Etiquetador 'por defecto'. DefaultTagger."
      ]
    },
    {
      "cell_type": "code",
      "execution_count": 12,
      "metadata": {
        "id": "mHdoJIi-Sp-8"
      },
      "outputs": [],
      "source": [
        "from nltk import DefaultTagger"
      ]
    },
    {
      "cell_type": "code",
      "execution_count": 13,
      "metadata": {
        "colab": {
          "base_uri": "https://localhost:8080/"
        },
        "id": "e-N4tC_wkU6S",
        "outputId": "f87398e3-f4f1-4c49-dff3-a1c98e954335"
      },
      "outputs": [
        {
          "data": {
            "text/plain": [
              "[('Hello', 'NN'), ('world', 'NN'), ('.', 'NN')]"
            ]
          },
          "execution_count": 13,
          "metadata": {},
          "output_type": "execute_result"
        }
      ],
      "source": [
        "# DefaulsTagger asigna la misma etiqueta a todas las palabras\n",
        "tagger = DefaultTagger('NN')\n",
        "texto = word_tokenize(\"Hello world.\")\n",
        "tagger.tag(texto)"
      ]
    },
    {
      "cell_type": "code",
      "execution_count": 14,
      "metadata": {
        "colab": {
          "base_uri": "https://localhost:8080/"
        },
        "id": "IXUV7XWbk5aU",
        "outputId": "f0d361ab-fe1a-4839-faac-de8632d7b3f7"
      },
      "outputs": [
        {
          "data": {
            "text/plain": [
              "[[('Hello', 'NN'), ('world', 'NN'), ('.', 'NN')],\n",
              " [('How', 'NN'), ('are', 'NN'), ('you', 'NN'), ('?', 'NN')]]"
            ]
          },
          "execution_count": 14,
          "metadata": {},
          "output_type": "execute_result"
        }
      ],
      "source": [
        "#Etiquetar oraciones\n",
        "\n",
        "from nltk.tokenize import sent_tokenize\n",
        "oraciones = sent_tokenize(\"Hello world. How are you?\")\n",
        "tokens = []\n",
        "for s in oraciones:\n",
        "  tokens.append(word_tokenize(s))\n",
        "tagger.tag_sents(tokens)"
      ]
    },
    {
      "cell_type": "markdown",
      "metadata": {
        "id": "SC_swBAKTMbZ"
      },
      "source": [
        "### Evaluar un etiquetador."
      ]
    },
    {
      "cell_type": "code",
      "execution_count": 15,
      "metadata": {
        "colab": {
          "base_uri": "https://localhost:8080/"
        },
        "id": "9xhifaNmqhgC",
        "outputId": "0be796d7-791f-4b2a-8dda-244d2695374c"
      },
      "outputs": [
        {
          "name": "stdout",
          "output_type": "stream",
          "text": [
            "14.33  %\n"
          ]
        }
      ],
      "source": [
        "from nltk.corpus import treebank\n",
        "test_sents = treebank.tagged_sents()[3000:]\n",
        "print(round(tagger.accuracy(test_sents)*100,2),\" %\")"
      ]
    },
    {
      "cell_type": "markdown",
      "metadata": {
        "id": "mpo-ZRRb1YYs"
      },
      "source": [
        "# Ejemplo 4: entrenamiento y evaluación de etiquetadores"
      ]
    },
    {
      "cell_type": "markdown",
      "metadata": {
        "id": "RBZSpT2awZS_"
      },
      "source": [
        "### Modelos de n-gramas: UnigramTagger, BigramTagger, TrigramTagger\n",
        "\n",
        "\n"
      ]
    },
    {
      "cell_type": "code",
      "execution_count": 16,
      "metadata": {
        "id": "KqdTmtAswZS-"
      },
      "outputs": [],
      "source": [
        "from nltk.tag import UnigramTagger, BigramTagger, TrigramTagger"
      ]
    },
    {
      "cell_type": "markdown",
      "metadata": {
        "id": "ZcZPcO2dwZS-"
      },
      "source": [
        "### (a) Definición del conjunto de frases de entrenamiento (el 90%) y de test (el 10%)"
      ]
    },
    {
      "cell_type": "code",
      "execution_count": 17,
      "metadata": {
        "id": "Om1CGfuEwZS_"
      },
      "outputs": [],
      "source": [
        "talla = int(len(treebank.tagged_sents()) * 0.9)\n",
        "train_sents = treebank.tagged_sents()[:talla]\n",
        "test_sents = treebank.tagged_sents()[talla:]"
      ]
    },
    {
      "cell_type": "markdown",
      "metadata": {
        "id": "XR4t-ZPc6s8A"
      },
      "source": [
        "### (b) Aprender el modelo de unigramas"
      ]
    },
    {
      "cell_type": "code",
      "execution_count": 18,
      "metadata": {
        "id": "chp6yDWawZS_"
      },
      "outputs": [],
      "source": [
        "unigram_tagger = UnigramTagger(train_sents)"
      ]
    },
    {
      "cell_type": "markdown",
      "metadata": {
        "id": "TkqpkvWz6xL0"
      },
      "source": [
        "### (c) Etiquetar. Método tag()"
      ]
    },
    {
      "cell_type": "code",
      "execution_count": 19,
      "metadata": {
        "colab": {
          "base_uri": "https://localhost:8080/"
        },
        "id": "DouVB6z72QrP",
        "outputId": "9c4261d2-3830-483f-b2f7-d462fded2ce9"
      },
      "outputs": [
        {
          "name": "stdout",
          "output_type": "stream",
          "text": [
            "['Kalamazoo', ',', 'Mich.-based', 'First', 'of', 'America', 'said', '0', 'it', 'will', 'eliminate', 'the', '13', 'management', 'positions', 'of', 'the', 'former', 'Midwest', 'Financial', 'parent', 'company', '.']\n",
            "[('Kalamazoo', None), (',', ','), ('Mich.-based', None), ('First', 'NNP'), ('of', 'IN'), ('America', 'NNP'), ('said', 'VBD'), ('0', '-NONE-'), ('it', 'PRP'), ('will', 'MD'), ('eliminate', 'VB'), ('the', 'DT'), ('13', 'CD'), ('management', 'NN'), ('positions', 'NNS'), ('of', 'IN'), ('the', 'DT'), ('former', 'JJ'), ('Midwest', 'NNP'), ('Financial', 'NNP'), ('parent', 'NN'), ('company', 'NN'), ('.', '.')]\n"
          ]
        }
      ],
      "source": [
        "sent1=treebank.sents()[talla]\n",
        "print(sent1)\n",
        "print(unigram_tagger.tag(sent1))"
      ]
    },
    {
      "cell_type": "markdown",
      "metadata": {
        "id": "m9XSeocU63ro"
      },
      "source": [
        "### (d) Evaluar. Método accuracy()"
      ]
    },
    {
      "cell_type": "code",
      "execution_count": 20,
      "metadata": {
        "colab": {
          "base_uri": "https://localhost:8080/"
        },
        "id": "VpTY2vCS5UJE",
        "outputId": "fcf88c6d-8cbd-4982-ad65-092bb842fdf8"
      },
      "outputs": [
        {
          "name": "stdout",
          "output_type": "stream",
          "text": [
            "Tasa de acierto de Unigramas: 86.28%\n"
          ]
        }
      ],
      "source": [
        "okUni = round(unigram_tagger.accuracy(test_sents) * 100, 2);\n",
        "print(\"Tasa de acierto de Unigramas: \"+ str(okUni) + \"%\")"
      ]
    },
    {
      "cell_type": "markdown",
      "metadata": {
        "id": "BeWfFOSQwZTA"
      },
      "source": [
        "### Modelo de bigramas"
      ]
    },
    {
      "cell_type": "code",
      "execution_count": 21,
      "metadata": {
        "colab": {
          "base_uri": "https://localhost:8080/"
        },
        "id": "BuQvoUzhwZTA",
        "outputId": "e3ea60e1-8fde-4ebc-ff33-76fae6cc58b5"
      },
      "outputs": [
        {
          "name": "stdout",
          "output_type": "stream",
          "text": [
            "['Kalamazoo', ',', 'Mich.-based', 'First', 'of', 'America', 'said', '0', 'it', 'will', 'eliminate', 'the', '13', 'management', 'positions', 'of', 'the', 'former', 'Midwest', 'Financial', 'parent', 'company', '.']\n",
            "[('Kalamazoo', None), (',', None), ('Mich.-based', None), ('First', None), ('of', None), ('America', None), ('said', None), ('0', None), ('it', None), ('will', None), ('eliminate', None), ('the', None), ('13', None), ('management', None), ('positions', None), ('of', None), ('the', None), ('former', None), ('Midwest', None), ('Financial', None), ('parent', None), ('company', None), ('.', None)]\n",
            "\n",
            "Tasas de acierto de Bigramas: 13.46%\n"
          ]
        }
      ],
      "source": [
        "bigram_tagger = BigramTagger(train_sents)\n",
        "sent1=treebank.sents()[talla]\n",
        "print(sent1)\n",
        "print(bigram_tagger.tag(sent1))\n",
        "okBi = round(bigram_tagger.accuracy(test_sents) * 100, 2);\n",
        "print()\n",
        "print(\"Tasas de acierto de Bigramas: \" + str(okBi) + \"%\")"
      ]
    },
    {
      "cell_type": "markdown",
      "metadata": {
        "id": "Pcmk18OwwZTD"
      },
      "source": [
        "### Etiquetador por defecto, usando la etiqueta más frecuente"
      ]
    },
    {
      "cell_type": "code",
      "execution_count": 22,
      "metadata": {
        "colab": {
          "base_uri": "https://localhost:8080/"
        },
        "id": "pT6UKWaLwZTD",
        "outputId": "fa0e80e3-2e9f-4e83-f0bc-b020d6ef13ea"
      },
      "outputs": [
        {
          "name": "stdout",
          "output_type": "stream",
          "text": [
            "NN\n",
            "[('Kalamazoo', 'NN'), (',', 'NN'), ('Mich.-based', 'NN'), ('First', 'NN'), ('of', 'NN'), ('America', 'NN'), ('said', 'NN'), ('0', 'NN'), ('it', 'NN'), ('will', 'NN'), ('eliminate', 'NN'), ('the', 'NN'), ('13', 'NN'), ('management', 'NN'), ('positions', 'NN'), ('of', 'NN'), ('the', 'NN'), ('former', 'NN'), ('Midwest', 'NN'), ('Financial', 'NN'), ('parent', 'NN'), ('company', 'NN'), ('.', 'NN')]\n",
            "Tasas de acierto:\n",
            "Default Tagger: 14.7%\n"
          ]
        }
      ],
      "source": [
        "import pprint\n",
        "from nltk.corpus import treebank\n",
        "from nltk.tag import DefaultTagger\n",
        "from nltk.probability import FreqDist\n",
        "# calcular la tag más frecuente en el train\n",
        "tags = [tag for (word, tag) in treebank.tagged_words()]\n",
        "masFTag = FreqDist(tags).max()\n",
        "print(masFTag)\n",
        "default_tagger = DefaultTagger(masFTag)\n",
        "print(default_tagger.tag(sent1))\n",
        "okDef = round(default_tagger.accuracy(test_sents) * 100, 2);\n",
        "print(\"Tasas de acierto:\")\n",
        "print(\"Default Tagger: \" + str(okDef) + \"%\")\n"
      ]
    },
    {
      "cell_type": "markdown",
      "metadata": {
        "id": "InZBpaURwZTF"
      },
      "source": [
        "### Definición y evaluación de un etiquetador usando backoff"
      ]
    },
    {
      "cell_type": "markdown",
      "metadata": {
        "id": "gVJqF7UTwZTF"
      },
      "source": [
        "### (a) Definición del etiquetador backoff"
      ]
    },
    {
      "cell_type": "code",
      "execution_count": 23,
      "metadata": {
        "id": "vPvU2wVzwZTF"
      },
      "outputs": [],
      "source": [
        "unigram_tagger = UnigramTagger(train_sents, backoff = default_tagger)\n",
        "backoff_tagger = BigramTagger(train_sents, backoff= unigram_tagger)"
      ]
    },
    {
      "cell_type": "markdown",
      "metadata": {
        "id": "o15sFj38wZTF"
      },
      "source": [
        "### (b) Evaluación del etiquetador backoff"
      ]
    },
    {
      "cell_type": "code",
      "execution_count": null,
      "metadata": {
        "colab": {
          "base_uri": "https://localhost:8080/"
        },
        "id": "8UIYTPNwwZTG",
        "outputId": "888ce179-4d44-4f4c-9ce2-48e254052ef9"
      },
      "outputs": [
        {
          "name": "stdout",
          "output_type": "stream",
          "text": [
            "Tasa de acierto de Bigramas - backoff: 89.06%\n"
          ]
        }
      ],
      "source": [
        "okBiBO = round(backoff_tagger.accuracy(test_sents) * 100, 2);\n",
        "print(\"Tasa de acierto de Bigramas - backoff: \" + str(okBiBO) + \"%\")"
      ]
    },
    {
      "cell_type": "markdown",
      "metadata": {
        "id": "fuMa5_TCwZTG"
      },
      "source": [
        "Ejemplo de etiquetado de la primera frase del test"
      ]
    },
    {
      "cell_type": "code",
      "execution_count": 25,
      "metadata": {
        "colab": {
          "base_uri": "https://localhost:8080/"
        },
        "id": "AGAoh5D0wZTG",
        "outputId": "787e6c23-3c75-4dfd-ae04-39b712feb4d8"
      },
      "outputs": [
        {
          "name": "stdout",
          "output_type": "stream",
          "text": [
            "['Kalamazoo', ',', 'Mich.-based', 'First', 'of', 'America', 'said', '0', 'it', 'will', 'eliminate', 'the', '13', 'management', 'positions', 'of', 'the', 'former', 'Midwest', 'Financial', 'parent', 'company', '.']\n",
            "[('Kalamazoo', 'NN'),\n",
            " (',', ','),\n",
            " ('Mich.-based', 'NN'),\n",
            " ('First', 'NNP'),\n",
            " ('of', 'IN'),\n",
            " ('America', 'NNP'),\n",
            " ('said', 'VBD'),\n",
            " ('0', '-NONE-'),\n",
            " ('it', 'PRP'),\n",
            " ('will', 'MD'),\n",
            " ('eliminate', 'VB'),\n",
            " ('the', 'DT'),\n",
            " ('13', 'CD'),\n",
            " ('management', 'NN'),\n",
            " ('positions', 'NNS'),\n",
            " ('of', 'IN'),\n",
            " ('the', 'DT'),\n",
            " ('former', 'JJ'),\n",
            " ('Midwest', 'NNP'),\n",
            " ('Financial', 'NNP'),\n",
            " ('parent', 'NN'),\n",
            " ('company', 'NN'),\n",
            " ('.', '.')]\n"
          ]
        }
      ],
      "source": [
        "sent1 = treebank.sents()[talla]\n",
        "print(sent1)\n",
        "tag = backoff_tagger.tag(sent1)\n",
        "pprint.pprint(tag)"
      ]
    },
    {
      "cell_type": "markdown",
      "metadata": {
        "id": "vXZyJJ5Lbh6y"
      },
      "source": [
        "# Ejemplo 5: Tratamiento de palabras desconocidas. Etiquetador basado en afijos. AffixTagger"
      ]
    },
    {
      "cell_type": "code",
      "execution_count": 26,
      "metadata": {
        "colab": {
          "base_uri": "https://localhost:8080/"
        },
        "id": "exPUJEs4wZTH",
        "outputId": "707826a9-5e88-4825-deed-138b8428bc9f"
      },
      "outputs": [
        {
          "name": "stdout",
          "output_type": "stream",
          "text": [
            "Tasa de acierto de AffixTagger:  32.0 %\n"
          ]
        }
      ],
      "source": [
        "from nltk.tag import AffixTagger\n",
        "# Specifying 3 character prefixes\n",
        "prefix_tag = AffixTagger(train_sents,affix_length=-2)\n",
        "\n",
        "#affix_length indica el tamaño del afijo: prefijo (positivo) o sufijo (negativo). Por defecto es -3\n",
        "#prefix_tag = AffixTagger(train_sents,afixx_length=-3)\n",
        "# Testing\n",
        "accuracy = round(prefix_tag.accuracy(test_sents)*100,2)\n",
        "\n",
        "print (\"Tasa de acierto de AffixTagger: \", accuracy, \"%\")"
      ]
    },
    {
      "cell_type": "markdown",
      "metadata": {
        "id": "7IOXulmZhSb1"
      },
      "source": [
        "### Utilizando el AffixTagger como backoff"
      ]
    },
    {
      "cell_type": "code",
      "execution_count": 27,
      "metadata": {
        "colab": {
          "base_uri": "https://localhost:8080/"
        },
        "id": "a3-555tiYhMg",
        "outputId": "4948a648-61f6-48c4-b227-478efadc7077"
      },
      "outputs": [
        {
          "name": "stdout",
          "output_type": "stream",
          "text": [
            "Tasa de acierto de Bigramas - backoff: 91.6%\n"
          ]
        }
      ],
      "source": [
        "unigram_tagger = UnigramTagger(train_sents, backoff = prefix_tag)\n",
        "backoff_tagger = BigramTagger(train_sents, backoff= unigram_tagger)\n",
        "okBiBO = round(backoff_tagger.accuracy(test_sents) * 100, 2);\n",
        "print(\"Tasa de acierto de Bigramas - backoff: \" + str(okBiBO) + \"%\")"
      ]
    },
    {
      "cell_type": "markdown",
      "metadata": {
        "id": "D74N1_LxiKI3"
      },
      "source": [
        "# Ejemplo 6: POS tagger basado en HMM"
      ]
    },
    {
      "cell_type": "code",
      "execution_count": 28,
      "metadata": {
        "colab": {
          "base_uri": "https://localhost:8080/"
        },
        "id": "gtavKYLRPpoe",
        "outputId": "ea2209b1-f0b0-4530-d396-6e55afd3dbbf"
      },
      "outputs": [
        {
          "name": "stdout",
          "output_type": "stream",
          "text": [
            "Tasa de acierto de HMM tagger: 89.93%\n"
          ]
        }
      ],
      "source": [
        "from nltk.tag import hmm\n",
        "\n",
        "# Usando el juego de etiquetas original del Penn Treebank\n",
        "\n",
        "# Crear particiones de entrenamiento y test\n",
        "talla = int(len(treebank.tagged_sents())*0.9)\n",
        "train_corpus = treebank.tagged_sents()[:talla]\n",
        "test_corpus = treebank.tagged_sents()[talla:]\n",
        "\n",
        "# Entrenar el modelo\n",
        "hmm_tagger=hmm.HiddenMarkovModelTagger.train(train_corpus)\n",
        "\n",
        "# Evaluar el modelo\n",
        "acc = round(hmm_tagger.accuracy(test_corpus)*100,2)\n",
        "print(\"Tasa de acierto de HMM tagger: \"+ str(acc) + \"%\")"
      ]
    },
    {
      "cell_type": "markdown",
      "metadata": {
        "id": "0APvPdo5kAU3"
      },
      "source": [
        "### Otra implementación de HMM es el etiquetador TnT, permite utilizar un modelo de afijos para mejorar las prestaciones sobre palabras desconocidas"
      ]
    },
    {
      "cell_type": "code",
      "execution_count": 29,
      "metadata": {
        "colab": {
          "base_uri": "https://localhost:8080/"
        },
        "id": "e84E-zG2E5wy",
        "outputId": "e9e7e21f-a30a-4a9f-d9ad-9e85d2fe1c2f"
      },
      "outputs": [
        {
          "name": "stdout",
          "output_type": "stream",
          "text": [
            "Tasa de acierto de TnT tagger: 88.13%\n"
          ]
        }
      ],
      "source": [
        "from nltk.tag import tnt\n",
        "\n",
        "tnt_tagger = tnt.TnT()\n",
        "\n",
        "\n",
        "# Entrenar el modelo\n",
        "tnt_tagger.train(train_corpus)\n",
        "\n",
        "# Evaluar el modelo\n",
        "acc = round(tnt_tagger.accuracy(test_corpus)*100,2)\n",
        "print(\"Tasa de acierto de TnT tagger: \"+ str(acc) + \"%\")"
      ]
    },
    {
      "cell_type": "code",
      "execution_count": 30,
      "metadata": {
        "colab": {
          "base_uri": "https://localhost:8080/"
        },
        "id": "MPUtuU6muk2m",
        "outputId": "fbb92f29-a374-4222-f482-df62e1e6b723"
      },
      "outputs": [
        {
          "name": "stdout",
          "output_type": "stream",
          "text": [
            "Tasa de acierto de AffixTagger: 32.0%\n"
          ]
        }
      ],
      "source": [
        "prefix_tag = AffixTagger(train_corpus,\n",
        "                         affix_length = -2)\n",
        "\n",
        "# Evaluar el modelo de afijos\n",
        "acc = round(prefix_tag.accuracy(test_corpus)*100,2)\n",
        "print(\"Tasa de acierto de AffixTagger: \"+ str(acc) + \"%\")"
      ]
    },
    {
      "cell_type": "code",
      "execution_count": 31,
      "metadata": {
        "colab": {
          "base_uri": "https://localhost:8080/"
        },
        "id": "XDIQUVjvvY0y",
        "outputId": "8981241c-957d-4a79-80f8-396f4b32f2a0"
      },
      "outputs": [
        {
          "name": "stdout",
          "output_type": "stream",
          "text": [
            "Tasa de acierto de TnT tagger suavizado con AffixTagger: 92.44%\n"
          ]
        }
      ],
      "source": [
        "# Se incluye el modelo de afijos en TnT\n",
        "tnt_tagger = tnt.TnT(unk=prefix_tag, Trained=True)\n",
        "\n",
        "tnt_tagger.train(train_corpus)\n",
        "\n",
        "# Evaluar TnT con el modelo de afijos\n",
        "acc = round(tnt_tagger.accuracy(test_corpus)*100,2)\n",
        "print(\"Tasa de acierto de TnT tagger suavizado con AffixTagger: \"+ str(acc) + \"%\")"
      ]
    },
    {
      "cell_type": "code",
      "execution_count": null,
      "metadata": {
        "id": "gXJ-SboybMMY"
      },
      "outputs": [],
      "source": []
    }
  ],
  "metadata": {
    "anaconda-cloud": {},
    "colab": {
      "provenance": []
    },
    "kernelspec": {
      "display_name": "Python 3",
      "language": "python",
      "name": "python3"
    },
    "language_info": {
      "codemirror_mode": {
        "name": "ipython",
        "version": 3
      },
      "file_extension": ".py",
      "mimetype": "text/x-python",
      "name": "python",
      "nbconvert_exporter": "python",
      "pygments_lexer": "ipython3",
      "version": "3.11.9"
    }
  },
  "nbformat": 4,
  "nbformat_minor": 0
}
